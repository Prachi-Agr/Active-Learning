{
  "nbformat": 4,
  "nbformat_minor": 0,
  "metadata": {
    "colab": {
      "name": " Final margin sampling-stream-based.ipynb",
      "provenance": [],
      "collapsed_sections": []
    },
    "kernelspec": {
      "name": "python3",
      "display_name": "Python 3"
    }
  },
  "cells": [
    {
      "cell_type": "code",
      "metadata": {
        "id": "ZbN6GxR-eHn1",
        "colab_type": "code",
        "colab": {}
      },
      "source": [
        "import os\n",
        "import numpy as np\n",
        "import matplotlib.pyplot as plt"
      ],
      "execution_count": null,
      "outputs": []
    },
    {
      "cell_type": "code",
      "metadata": {
        "id": "UvL7SD9leNHD",
        "colab_type": "code",
        "colab": {
          "base_uri": "https://localhost:8080/",
          "height": 102
        },
        "outputId": "29f097d9-a0ad-47bf-bacf-1f8b57215174"
      },
      "source": [
        "pip install modAL"
      ],
      "execution_count": null,
      "outputs": [
        {
          "output_type": "stream",
          "text": [
            "Requirement already satisfied: modAL in /usr/local/lib/python3.6/dist-packages (0.3.5)\n",
            "Requirement already satisfied: numpy>=1.13 in /usr/local/lib/python3.6/dist-packages (from modAL) (1.18.5)\n",
            "Requirement already satisfied: scikit-learn>=0.18 in /usr/local/lib/python3.6/dist-packages (from modAL) (0.22.2.post1)\n",
            "Requirement already satisfied: scipy>=0.18 in /usr/local/lib/python3.6/dist-packages (from modAL) (1.4.1)\n",
            "Requirement already satisfied: joblib>=0.11 in /usr/local/lib/python3.6/dist-packages (from scikit-learn>=0.18->modAL) (0.15.1)\n"
          ],
          "name": "stdout"
        }
      ]
    },
    {
      "cell_type": "code",
      "metadata": {
        "id": "Q7NsurY7eR_g",
        "colab_type": "code",
        "colab": {}
      },
      "source": [
        "from sklearn.datasets import load_digits\n",
        "\n",
        "digits = load_digits()"
      ],
      "execution_count": null,
      "outputs": []
    },
    {
      "cell_type": "code",
      "metadata": {
        "id": "kqElzejBeavY",
        "colab_type": "code",
        "colab": {}
      },
      "source": [
        "X_full=digits.data\n",
        "y_full=digits.target"
      ],
      "execution_count": null,
      "outputs": []
    },
    {
      "cell_type": "code",
      "metadata": {
        "id": "Wl0xA0cpee8g",
        "colab_type": "code",
        "colab": {}
      },
      "source": [
        "n_initial = 179\n",
        "initial_idx = np.random.choice(range(len(X_full)), size=n_initial, replace=False)\n",
        "X_train, y_train = X_full[initial_idx], y_full[initial_idx]"
      ],
      "execution_count": null,
      "outputs": []
    },
    {
      "cell_type": "code",
      "metadata": {
        "id": "0EB2Vejse2ob",
        "colab_type": "code",
        "colab": {
          "base_uri": "https://localhost:8080/",
          "height": 34
        },
        "outputId": "3de29e7b-f62b-4d66-85a8-99a0ec7a0d90"
      },
      "source": [
        "X_train.shape"
      ],
      "execution_count": null,
      "outputs": [
        {
          "output_type": "execute_result",
          "data": {
            "text/plain": [
              "(179, 64)"
            ]
          },
          "metadata": {
            "tags": []
          },
          "execution_count": 26
        }
      ]
    },
    {
      "cell_type": "markdown",
      "metadata": {
        "id": "7QK9_jkPugei",
        "colab_type": "text"
      },
      "source": [
        "Create pool to query data points from"
      ]
    },
    {
      "cell_type": "code",
      "metadata": {
        "id": "hL75o-SeK3M_",
        "colab_type": "code",
        "colab": {}
      },
      "source": [
        "X_pool = np.delete(X_full, initial_idx, axis=0)\n",
        "y_pool = np.delete(y_full, initial_idx, axis=0)"
      ],
      "execution_count": null,
      "outputs": []
    },
    {
      "cell_type": "code",
      "metadata": {
        "id": "CXIlPoIfe5kq",
        "colab_type": "code",
        "colab": {}
      },
      "source": [
        "y_train.shape\n",
        "from sklearn.neighbors import KNeighborsClassifier\n",
        "from modAL.models import ActiveLearner"
      ],
      "execution_count": null,
      "outputs": []
    },
    {
      "cell_type": "code",
      "metadata": {
        "id": "IagbxoIWe_xg",
        "colab_type": "code",
        "colab": {}
      },
      "source": [
        "knn = KNeighborsClassifier(n_neighbors=3)\n",
        "\n",
        "learner = ActiveLearner(\n",
        "    estimator=knn,\n",
        "    X_training=X_train, y_training=y_train\n",
        ")\n",
        "unqueried_score = learner.score(X_full, y_full)"
      ],
      "execution_count": null,
      "outputs": []
    },
    {
      "cell_type": "code",
      "metadata": {
        "id": "1g6NSW7QfFUV",
        "colab_type": "code",
        "colab": {
          "base_uri": "https://localhost:8080/",
          "height": 34
        },
        "outputId": "20f01e4b-af1c-4788-ffba-53d0ee48a6fe"
      },
      "source": [
        "print('Initial prediction accuracy: %f' % unqueried_score)"
      ],
      "execution_count": null,
      "outputs": [
        {
          "output_type": "stream",
          "text": [
            "Initial prediction accuracy: 0.921536\n"
          ],
          "name": "stdout"
        }
      ]
    },
    {
      "cell_type": "markdown",
      "metadata": {
        "id": "hXCNhLkjulbj",
        "colab_type": "text"
      },
      "source": [
        "Find uncertainty sampling value for setting threshold"
      ]
    },
    {
      "cell_type": "code",
      "metadata": {
        "id": "l9bs-8chfZIh",
        "colab_type": "code",
        "colab": {}
      },
      "source": [
        "from modAL.uncertainty import classifier_margin\n",
        "\n",
        "performance_history = [unqueried_score]"
      ],
      "execution_count": null,
      "outputs": []
    },
    {
      "cell_type": "code",
      "metadata": {
        "id": "8v9jcUyYDpPz",
        "colab_type": "code",
        "colab": {
          "base_uri": "https://localhost:8080/",
          "height": 34
        },
        "outputId": "c534dda4-2fdf-4388-9c7a-6c138744e7ed"
      },
      "source": [
        "np.unique(classifier_margin(learner, X_pool))"
      ],
      "execution_count": null,
      "outputs": [
        {
          "output_type": "execute_result",
          "data": {
            "text/plain": [
              "array([1.])"
            ]
          },
          "metadata": {
            "tags": []
          },
          "execution_count": 39
        }
      ]
    },
    {
      "cell_type": "code",
      "metadata": {
        "id": "glN2Qbnjixb6",
        "colab_type": "code",
        "colab": {
          "base_uri": "https://localhost:8080/",
          "height": 1000
        },
        "outputId": "11a4ca7d-e3fa-4b17-c4e0-2a68765bd4cd"
      },
      "source": [
        "num_q=179\n",
        "i=0\n",
        "while (num_q):\n",
        "    stream_idx = np.random.choice(range(len(X_pool)))\n",
        "    if classifier_margin(learner, X_pool[stream_idx].reshape(1, -1))<=1 :\n",
        "      num_q=num_q-1;\n",
        "      learner.teach(X_pool[stream_idx].reshape(1, -1), y_pool[stream_idx].reshape(-1, ))\n",
        "      new_score = learner.score(X_full, y_full)\n",
        "      performance_history.append(new_score)\n",
        "      X_pool = np.delete(X_pool, stream_idx, axis=0)\n",
        "      y_pool = np.delete(y_pool, stream_idx)\n",
        "      print('Example no. %d queried, new accuracy: %f' % (stream_idx, new_score))"
      ],
      "execution_count": null,
      "outputs": [
        {
          "output_type": "stream",
          "text": [
            "Example no. 211 queried, new accuracy: 0.989983\n",
            "Example no. 943 queried, new accuracy: 0.989983\n",
            "Example no. 261 queried, new accuracy: 0.989983\n",
            "Example no. 39 queried, new accuracy: 0.989983\n",
            "Example no. 848 queried, new accuracy: 0.989427\n",
            "Example no. 656 queried, new accuracy: 0.988870\n",
            "Example no. 768 queried, new accuracy: 0.988870\n",
            "Example no. 534 queried, new accuracy: 0.989427\n",
            "Example no. 506 queried, new accuracy: 0.989427\n",
            "Example no. 517 queried, new accuracy: 0.989427\n",
            "Example no. 833 queried, new accuracy: 0.989427\n",
            "Example no. 283 queried, new accuracy: 0.988870\n",
            "Example no. 7 queried, new accuracy: 0.989427\n",
            "Example no. 661 queried, new accuracy: 0.989427\n",
            "Example no. 575 queried, new accuracy: 0.989427\n",
            "Example no. 865 queried, new accuracy: 0.989983\n",
            "Example no. 177 queried, new accuracy: 0.989983\n",
            "Example no. 431 queried, new accuracy: 0.989983\n",
            "Example no. 384 queried, new accuracy: 0.989983\n",
            "Example no. 214 queried, new accuracy: 0.989983\n",
            "Example no. 617 queried, new accuracy: 0.989427\n",
            "Example no. 446 queried, new accuracy: 0.989427\n",
            "Example no. 436 queried, new accuracy: 0.989427\n",
            "Example no. 93 queried, new accuracy: 0.989427\n",
            "Example no. 923 queried, new accuracy: 0.989427\n",
            "Example no. 960 queried, new accuracy: 0.989427\n",
            "Example no. 524 queried, new accuracy: 0.989983\n",
            "Example no. 58 queried, new accuracy: 0.989983\n",
            "Example no. 218 queried, new accuracy: 0.989983\n",
            "Example no. 578 queried, new accuracy: 0.989983\n",
            "Example no. 903 queried, new accuracy: 0.989983\n",
            "Example no. 803 queried, new accuracy: 0.989983\n",
            "Example no. 774 queried, new accuracy: 0.989983\n",
            "Example no. 616 queried, new accuracy: 0.989983\n",
            "Example no. 301 queried, new accuracy: 0.989983\n",
            "Example no. 193 queried, new accuracy: 0.989983\n",
            "Example no. 245 queried, new accuracy: 0.989427\n",
            "Example no. 581 queried, new accuracy: 0.989427\n",
            "Example no. 42 queried, new accuracy: 0.989983\n",
            "Example no. 57 queried, new accuracy: 0.989983\n",
            "Example no. 676 queried, new accuracy: 0.989427\n",
            "Example no. 484 queried, new accuracy: 0.989983\n",
            "Example no. 404 queried, new accuracy: 0.989983\n",
            "Example no. 368 queried, new accuracy: 0.989427\n",
            "Example no. 354 queried, new accuracy: 0.989983\n",
            "Example no. 331 queried, new accuracy: 0.989427\n",
            "Example no. 245 queried, new accuracy: 0.989983\n",
            "Example no. 553 queried, new accuracy: 0.989983\n",
            "Example no. 161 queried, new accuracy: 0.989983\n",
            "Example no. 755 queried, new accuracy: 0.989983\n",
            "Example no. 329 queried, new accuracy: 0.990540\n",
            "Example no. 471 queried, new accuracy: 0.990540\n",
            "Example no. 535 queried, new accuracy: 0.990540\n",
            "Example no. 226 queried, new accuracy: 0.989983\n",
            "Example no. 512 queried, new accuracy: 0.990540\n",
            "Example no. 974 queried, new accuracy: 0.990540\n",
            "Example no. 456 queried, new accuracy: 0.990540\n",
            "Example no. 951 queried, new accuracy: 0.990540\n",
            "Example no. 888 queried, new accuracy: 0.990540\n",
            "Example no. 347 queried, new accuracy: 0.990540\n",
            "Example no. 523 queried, new accuracy: 0.989983\n",
            "Example no. 587 queried, new accuracy: 0.989983\n",
            "Example no. 282 queried, new accuracy: 0.990540\n",
            "Example no. 182 queried, new accuracy: 0.989983\n",
            "Example no. 955 queried, new accuracy: 0.990540\n",
            "Example no. 978 queried, new accuracy: 0.990540\n",
            "Example no. 261 queried, new accuracy: 0.990540\n",
            "Example no. 592 queried, new accuracy: 0.990540\n",
            "Example no. 782 queried, new accuracy: 0.990540\n",
            "Example no. 293 queried, new accuracy: 0.990540\n",
            "Example no. 345 queried, new accuracy: 0.989983\n",
            "Example no. 12 queried, new accuracy: 0.990540\n",
            "Example no. 982 queried, new accuracy: 0.990540\n",
            "Example no. 775 queried, new accuracy: 0.990540\n",
            "Example no. 395 queried, new accuracy: 0.990540\n",
            "Example no. 806 queried, new accuracy: 0.989983\n",
            "Example no. 319 queried, new accuracy: 0.990540\n",
            "Example no. 953 queried, new accuracy: 0.990540\n",
            "Example no. 30 queried, new accuracy: 0.990540\n",
            "Example no. 738 queried, new accuracy: 0.989983\n",
            "Example no. 335 queried, new accuracy: 0.990540\n",
            "Example no. 15 queried, new accuracy: 0.990540\n",
            "Example no. 896 queried, new accuracy: 0.990540\n",
            "Example no. 451 queried, new accuracy: 0.990540\n",
            "Example no. 888 queried, new accuracy: 0.990540\n",
            "Example no. 347 queried, new accuracy: 0.990540\n",
            "Example no. 812 queried, new accuracy: 0.990540\n",
            "Example no. 507 queried, new accuracy: 0.989983\n",
            "Example no. 320 queried, new accuracy: 0.990540\n",
            "Example no. 480 queried, new accuracy: 0.990540\n",
            "Example no. 917 queried, new accuracy: 0.990540\n",
            "Example no. 978 queried, new accuracy: 0.990540\n",
            "Example no. 537 queried, new accuracy: 0.990540\n",
            "Example no. 254 queried, new accuracy: 0.990540\n",
            "Example no. 8 queried, new accuracy: 0.990540\n",
            "Example no. 20 queried, new accuracy: 0.990540\n",
            "Example no. 499 queried, new accuracy: 0.989983\n",
            "Example no. 271 queried, new accuracy: 0.990540\n",
            "Example no. 822 queried, new accuracy: 0.990540\n",
            "Example no. 564 queried, new accuracy: 0.990540\n",
            "Example no. 523 queried, new accuracy: 0.990540\n",
            "Example no. 975 queried, new accuracy: 0.989983\n",
            "Example no. 839 queried, new accuracy: 0.990540\n",
            "Example no. 960 queried, new accuracy: 0.990540\n",
            "Example no. 502 queried, new accuracy: 0.989983\n",
            "Example no. 817 queried, new accuracy: 0.990540\n",
            "Example no. 388 queried, new accuracy: 0.989983\n",
            "Example no. 327 queried, new accuracy: 0.989983\n",
            "Example no. 445 queried, new accuracy: 0.989983\n",
            "Example no. 796 queried, new accuracy: 0.990540\n",
            "Example no. 26 queried, new accuracy: 0.989983\n",
            "Example no. 55 queried, new accuracy: 0.989983\n",
            "Example no. 61 queried, new accuracy: 0.989983\n",
            "Example no. 372 queried, new accuracy: 0.990540\n",
            "Example no. 485 queried, new accuracy: 0.990540\n",
            "Example no. 71 queried, new accuracy: 0.989983\n",
            "Example no. 878 queried, new accuracy: 0.990540\n",
            "Example no. 198 queried, new accuracy: 0.989983\n",
            "Example no. 811 queried, new accuracy: 0.990540\n",
            "Example no. 154 queried, new accuracy: 0.989983\n",
            "Example no. 610 queried, new accuracy: 0.989983\n",
            "Example no. 262 queried, new accuracy: 0.990540\n",
            "Example no. 836 queried, new accuracy: 0.990540\n",
            "Example no. 904 queried, new accuracy: 0.989983\n",
            "Example no. 810 queried, new accuracy: 0.989983\n",
            "Example no. 158 queried, new accuracy: 0.990540\n",
            "Example no. 627 queried, new accuracy: 0.989983\n",
            "Example no. 519 queried, new accuracy: 0.989427\n",
            "Example no. 257 queried, new accuracy: 0.989427\n",
            "Example no. 701 queried, new accuracy: 0.989983\n",
            "Example no. 526 queried, new accuracy: 0.989983\n",
            "Example no. 77 queried, new accuracy: 0.989983\n",
            "Example no. 239 queried, new accuracy: 0.989427\n",
            "Example no. 423 queried, new accuracy: 0.989427\n",
            "Example no. 503 queried, new accuracy: 0.989427\n",
            "Example no. 647 queried, new accuracy: 0.989983\n",
            "Example no. 311 queried, new accuracy: 0.989983\n",
            "Example no. 488 queried, new accuracy: 0.989983\n",
            "Example no. 175 queried, new accuracy: 0.989983\n",
            "Example no. 379 queried, new accuracy: 0.989427\n",
            "Example no. 785 queried, new accuracy: 0.989983\n",
            "Example no. 390 queried, new accuracy: 0.989983\n",
            "Example no. 11 queried, new accuracy: 0.990540\n",
            "Example no. 58 queried, new accuracy: 0.990540\n",
            "Example no. 587 queried, new accuracy: 0.990540\n",
            "Example no. 690 queried, new accuracy: 0.991096\n",
            "Example no. 270 queried, new accuracy: 0.991096\n",
            "Example no. 666 queried, new accuracy: 0.991096\n",
            "Example no. 570 queried, new accuracy: 0.991096\n",
            "Example no. 103 queried, new accuracy: 0.991096\n",
            "Example no. 380 queried, new accuracy: 0.991096\n",
            "Example no. 193 queried, new accuracy: 0.991096\n",
            "Example no. 623 queried, new accuracy: 0.990540\n",
            "Example no. 682 queried, new accuracy: 0.990540\n",
            "Example no. 85 queried, new accuracy: 0.991096\n",
            "Example no. 892 queried, new accuracy: 0.990540\n",
            "Example no. 23 queried, new accuracy: 0.990540\n",
            "Example no. 187 queried, new accuracy: 0.991096\n",
            "Example no. 734 queried, new accuracy: 0.990540\n",
            "Example no. 320 queried, new accuracy: 0.990540\n",
            "Example no. 414 queried, new accuracy: 0.990540\n",
            "Example no. 368 queried, new accuracy: 0.990540\n",
            "Example no. 540 queried, new accuracy: 0.990540\n",
            "Example no. 370 queried, new accuracy: 0.989983\n",
            "Example no. 849 queried, new accuracy: 0.989983\n",
            "Example no. 100 queried, new accuracy: 0.990540\n",
            "Example no. 532 queried, new accuracy: 0.990540\n",
            "Example no. 819 queried, new accuracy: 0.989983\n",
            "Example no. 195 queried, new accuracy: 0.990540\n",
            "Example no. 377 queried, new accuracy: 0.991096\n",
            "Example no. 430 queried, new accuracy: 0.991096\n",
            "Example no. 113 queried, new accuracy: 0.990540\n",
            "Example no. 552 queried, new accuracy: 0.990540\n",
            "Example no. 738 queried, new accuracy: 0.990540\n",
            "Example no. 733 queried, new accuracy: 0.991096\n",
            "Example no. 144 queried, new accuracy: 0.990540\n",
            "Example no. 608 queried, new accuracy: 0.991096\n",
            "Example no. 55 queried, new accuracy: 0.991096\n",
            "Example no. 349 queried, new accuracy: 0.991096\n"
          ],
          "name": "stdout"
        }
      ]
    },
    {
      "cell_type": "markdown",
      "metadata": {
        "id": "RUonOUMJ0XCF",
        "colab_type": "text"
      },
      "source": [
        "97.38"
      ]
    },
    {
      "cell_type": "code",
      "metadata": {
        "id": "KQldklTfihBV",
        "colab_type": "code",
        "colab": {}
      },
      "source": [
        ""
      ],
      "execution_count": null,
      "outputs": []
    }
  ]
}