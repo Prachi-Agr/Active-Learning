{
  "nbformat": 4,
  "nbformat_minor": 0,
  "metadata": {
    "colab": {
      "name": " Final entropy sampling-stream-based.ipynb",
      "provenance": [],
      "collapsed_sections": []
    },
    "kernelspec": {
      "name": "python3",
      "display_name": "Python 3"
    }
  },
  "cells": [
    {
      "cell_type": "code",
      "metadata": {
        "id": "ZbN6GxR-eHn1",
        "colab_type": "code",
        "colab": {}
      },
      "source": [
        "import os\n",
        "import numpy as np\n",
        "import matplotlib.pyplot as plt"
      ],
      "execution_count": null,
      "outputs": []
    },
    {
      "cell_type": "code",
      "metadata": {
        "id": "UvL7SD9leNHD",
        "colab_type": "code",
        "colab": {
          "base_uri": "https://localhost:8080/",
          "height": 153
        },
        "outputId": "186fb313-6a28-4b5f-ccff-07c8ca5ae2f2"
      },
      "source": [
        "pip install modAL"
      ],
      "execution_count": null,
      "outputs": [
        {
          "output_type": "stream",
          "text": [
            "Collecting modAL\n",
            "  Downloading https://files.pythonhosted.org/packages/1a/36/9558ec3ee50263f10a47c425b43941a9018eebcbd8a95685cb7b2363704c/modAL-0.3.5-py3-none-any.whl\n",
            "Requirement already satisfied: scipy>=0.18 in /usr/local/lib/python3.6/dist-packages (from modAL) (1.4.1)\n",
            "Requirement already satisfied: scikit-learn>=0.18 in /usr/local/lib/python3.6/dist-packages (from modAL) (0.22.2.post1)\n",
            "Requirement already satisfied: numpy>=1.13 in /usr/local/lib/python3.6/dist-packages (from modAL) (1.18.5)\n",
            "Requirement already satisfied: joblib>=0.11 in /usr/local/lib/python3.6/dist-packages (from scikit-learn>=0.18->modAL) (0.15.1)\n",
            "Installing collected packages: modAL\n",
            "Successfully installed modAL-0.3.5\n"
          ],
          "name": "stdout"
        }
      ]
    },
    {
      "cell_type": "code",
      "metadata": {
        "id": "Q7NsurY7eR_g",
        "colab_type": "code",
        "colab": {}
      },
      "source": [
        "from sklearn.datasets import load_digits\n",
        "\n",
        "digits = load_digits()"
      ],
      "execution_count": null,
      "outputs": []
    },
    {
      "cell_type": "code",
      "metadata": {
        "id": "kqElzejBeavY",
        "colab_type": "code",
        "colab": {}
      },
      "source": [
        "X_full=digits.data\n",
        "y_full=digits.target"
      ],
      "execution_count": null,
      "outputs": []
    },
    {
      "cell_type": "code",
      "metadata": {
        "id": "Wl0xA0cpee8g",
        "colab_type": "code",
        "colab": {}
      },
      "source": [
        "n_initial = 179\n",
        "initial_idx = np.random.choice(range(len(X_full)), size=n_initial, replace=False)\n",
        "X_train, y_train = X_full[initial_idx], y_full[initial_idx]"
      ],
      "execution_count": null,
      "outputs": []
    },
    {
      "cell_type": "code",
      "metadata": {
        "id": "0EB2Vejse2ob",
        "colab_type": "code",
        "colab": {
          "base_uri": "https://localhost:8080/",
          "height": 34
        },
        "outputId": "0046d47b-de2a-40a4-fe7f-0ada7e26b4a6"
      },
      "source": [
        "X_train.shape"
      ],
      "execution_count": null,
      "outputs": [
        {
          "output_type": "execute_result",
          "data": {
            "text/plain": [
              "(179, 64)"
            ]
          },
          "metadata": {
            "tags": []
          },
          "execution_count": 6
        }
      ]
    },
    {
      "cell_type": "markdown",
      "metadata": {
        "id": "7QK9_jkPugei",
        "colab_type": "text"
      },
      "source": [
        "Create pool to query data points from"
      ]
    },
    {
      "cell_type": "code",
      "metadata": {
        "id": "hL75o-SeK3M_",
        "colab_type": "code",
        "colab": {}
      },
      "source": [
        "X_pool = np.delete(X_full, initial_idx, axis=0)\n",
        "y_pool = np.delete(y_full, initial_idx, axis=0)"
      ],
      "execution_count": null,
      "outputs": []
    },
    {
      "cell_type": "code",
      "metadata": {
        "id": "CXIlPoIfe5kq",
        "colab_type": "code",
        "colab": {}
      },
      "source": [
        "y_train.shape\n",
        "from sklearn.neighbors import KNeighborsClassifier\n",
        "from modAL.models import ActiveLearner"
      ],
      "execution_count": null,
      "outputs": []
    },
    {
      "cell_type": "code",
      "metadata": {
        "id": "IagbxoIWe_xg",
        "colab_type": "code",
        "colab": {}
      },
      "source": [
        "knn = KNeighborsClassifier(n_neighbors=3)\n",
        "\n",
        "learner = ActiveLearner(\n",
        "    estimator=knn,\n",
        "    X_training=X_train, y_training=y_train\n",
        ")\n",
        "unqueried_score = learner.score(X_full, y_full)"
      ],
      "execution_count": null,
      "outputs": []
    },
    {
      "cell_type": "code",
      "metadata": {
        "id": "1g6NSW7QfFUV",
        "colab_type": "code",
        "colab": {
          "base_uri": "https://localhost:8080/",
          "height": 34
        },
        "outputId": "7b330ca9-2ad2-4e31-da8b-8fdd4a832974"
      },
      "source": [
        "print('Initial prediction accuracy: %f' % unqueried_score)"
      ],
      "execution_count": null,
      "outputs": [
        {
          "output_type": "stream",
          "text": [
            "Initial prediction accuracy: 0.922092\n"
          ],
          "name": "stdout"
        }
      ]
    },
    {
      "cell_type": "markdown",
      "metadata": {
        "id": "hXCNhLkjulbj",
        "colab_type": "text"
      },
      "source": [
        "Find uncertainty sampling value for setting threshold"
      ]
    },
    {
      "cell_type": "code",
      "metadata": {
        "id": "l9bs-8chfZIh",
        "colab_type": "code",
        "colab": {}
      },
      "source": [
        "from modAL.uncertainty import classifier_entropy\n",
        "\n",
        "performance_history = [unqueried_score]"
      ],
      "execution_count": null,
      "outputs": []
    },
    {
      "cell_type": "code",
      "metadata": {
        "id": "8v9jcUyYDpPz",
        "colab_type": "code",
        "colab": {
          "base_uri": "https://localhost:8080/",
          "height": 34
        },
        "outputId": "3fa3f456-195c-4757-8c70-fede3572e93a"
      },
      "source": [
        "np.unique(classifier_entropy(learner, X_pool))"
      ],
      "execution_count": null,
      "outputs": [
        {
          "output_type": "execute_result",
          "data": {
            "text/plain": [
              "array([0.        , 0.63651417, 1.09861229])"
            ]
          },
          "metadata": {
            "tags": []
          },
          "execution_count": 14
        }
      ]
    },
    {
      "cell_type": "code",
      "metadata": {
        "id": "glN2Qbnjixb6",
        "colab_type": "code",
        "colab": {
          "base_uri": "https://localhost:8080/",
          "height": 1000
        },
        "outputId": "1a9c9410-3f90-4fb0-944c-81b4df29c060"
      },
      "source": [
        "num_q=179\n",
        "i=0\n",
        "while (num_q):\n",
        "    stream_idx = np.random.choice(range(len(X_pool)))\n",
        "    if classifier_entropy(learner, X_pool[stream_idx].reshape(1, -1))>=0 :\n",
        "      num_q=num_q-1;\n",
        "      learner.teach(X_pool[stream_idx].reshape(1, -1), y_pool[stream_idx].reshape(-1, ))\n",
        "      new_score = learner.score(X_full, y_full)\n",
        "      performance_history.append(new_score)\n",
        "      X_pool = np.delete(X_pool, stream_idx, axis=0)\n",
        "      y_pool = np.delete(y_pool, stream_idx)\n",
        "      print('Example no. %d queried, new accuracy: %f' % (stream_idx, new_score))"
      ],
      "execution_count": null,
      "outputs": [
        {
          "output_type": "stream",
          "text": [
            "Example no. 779 queried, new accuracy: 0.989427\n",
            "Example no. 318 queried, new accuracy: 0.989427\n",
            "Example no. 641 queried, new accuracy: 0.989427\n",
            "Example no. 497 queried, new accuracy: 0.989427\n",
            "Example no. 852 queried, new accuracy: 0.989427\n",
            "Example no. 1138 queried, new accuracy: 0.989427\n",
            "Example no. 100 queried, new accuracy: 0.989983\n",
            "Example no. 678 queried, new accuracy: 0.989983\n",
            "Example no. 999 queried, new accuracy: 0.989983\n",
            "Example no. 1159 queried, new accuracy: 0.989983\n",
            "Example no. 174 queried, new accuracy: 0.989983\n",
            "Example no. 145 queried, new accuracy: 0.989983\n",
            "Example no. 756 queried, new accuracy: 0.989983\n",
            "Example no. 1114 queried, new accuracy: 0.989983\n",
            "Example no. 509 queried, new accuracy: 0.989983\n",
            "Example no. 249 queried, new accuracy: 0.989983\n",
            "Example no. 243 queried, new accuracy: 0.989983\n",
            "Example no. 886 queried, new accuracy: 0.989983\n",
            "Example no. 694 queried, new accuracy: 0.989983\n",
            "Example no. 1189 queried, new accuracy: 0.989983\n",
            "Example no. 1198 queried, new accuracy: 0.989983\n",
            "Example no. 917 queried, new accuracy: 0.989983\n",
            "Example no. 963 queried, new accuracy: 0.989983\n",
            "Example no. 984 queried, new accuracy: 0.989983\n",
            "Example no. 597 queried, new accuracy: 0.989983\n",
            "Example no. 771 queried, new accuracy: 0.989983\n",
            "Example no. 895 queried, new accuracy: 0.989983\n",
            "Example no. 678 queried, new accuracy: 0.989983\n",
            "Example no. 1186 queried, new accuracy: 0.989983\n",
            "Example no. 184 queried, new accuracy: 0.989983\n",
            "Example no. 75 queried, new accuracy: 0.989983\n",
            "Example no. 564 queried, new accuracy: 0.989983\n",
            "Example no. 125 queried, new accuracy: 0.989983\n",
            "Example no. 1087 queried, new accuracy: 0.989983\n",
            "Example no. 384 queried, new accuracy: 0.989983\n",
            "Example no. 743 queried, new accuracy: 0.989983\n",
            "Example no. 31 queried, new accuracy: 0.989983\n",
            "Example no. 1187 queried, new accuracy: 0.989983\n",
            "Example no. 376 queried, new accuracy: 0.989983\n",
            "Example no. 723 queried, new accuracy: 0.989983\n",
            "Example no. 322 queried, new accuracy: 0.989983\n",
            "Example no. 139 queried, new accuracy: 0.989983\n",
            "Example no. 664 queried, new accuracy: 0.989983\n",
            "Example no. 263 queried, new accuracy: 0.989983\n",
            "Example no. 992 queried, new accuracy: 0.989983\n",
            "Example no. 222 queried, new accuracy: 0.989983\n",
            "Example no. 334 queried, new accuracy: 0.989983\n",
            "Example no. 228 queried, new accuracy: 0.989983\n",
            "Example no. 651 queried, new accuracy: 0.989983\n",
            "Example no. 331 queried, new accuracy: 0.989983\n",
            "Example no. 768 queried, new accuracy: 0.989983\n",
            "Example no. 849 queried, new accuracy: 0.989983\n",
            "Example no. 86 queried, new accuracy: 0.989983\n",
            "Example no. 1005 queried, new accuracy: 0.989983\n",
            "Example no. 440 queried, new accuracy: 0.989983\n",
            "Example no. 931 queried, new accuracy: 0.989983\n",
            "Example no. 904 queried, new accuracy: 0.989983\n",
            "Example no. 1114 queried, new accuracy: 0.989983\n",
            "Example no. 339 queried, new accuracy: 0.990540\n",
            "Example no. 60 queried, new accuracy: 0.990540\n",
            "Example no. 499 queried, new accuracy: 0.990540\n",
            "Example no. 791 queried, new accuracy: 0.990540\n",
            "Example no. 1077 queried, new accuracy: 0.990540\n",
            "Example no. 962 queried, new accuracy: 0.990540\n",
            "Example no. 929 queried, new accuracy: 0.990540\n",
            "Example no. 927 queried, new accuracy: 0.990540\n",
            "Example no. 243 queried, new accuracy: 0.990540\n",
            "Example no. 296 queried, new accuracy: 0.990540\n",
            "Example no. 466 queried, new accuracy: 0.990540\n",
            "Example no. 569 queried, new accuracy: 0.990540\n",
            "Example no. 1147 queried, new accuracy: 0.990540\n",
            "Example no. 358 queried, new accuracy: 0.990540\n",
            "Example no. 253 queried, new accuracy: 0.990540\n",
            "Example no. 168 queried, new accuracy: 0.990540\n",
            "Example no. 886 queried, new accuracy: 0.990540\n",
            "Example no. 307 queried, new accuracy: 0.990540\n",
            "Example no. 688 queried, new accuracy: 0.990540\n",
            "Example no. 489 queried, new accuracy: 0.990540\n",
            "Example no. 1110 queried, new accuracy: 0.990540\n",
            "Example no. 784 queried, new accuracy: 0.990540\n",
            "Example no. 242 queried, new accuracy: 0.990540\n",
            "Example no. 876 queried, new accuracy: 0.990540\n",
            "Example no. 82 queried, new accuracy: 0.990540\n",
            "Example no. 775 queried, new accuracy: 0.990540\n",
            "Example no. 1030 queried, new accuracy: 0.990540\n",
            "Example no. 982 queried, new accuracy: 0.990540\n",
            "Example no. 938 queried, new accuracy: 0.990540\n",
            "Example no. 876 queried, new accuracy: 0.990540\n",
            "Example no. 13 queried, new accuracy: 0.991096\n",
            "Example no. 578 queried, new accuracy: 0.991096\n",
            "Example no. 77 queried, new accuracy: 0.991096\n",
            "Example no. 1023 queried, new accuracy: 0.991096\n",
            "Example no. 25 queried, new accuracy: 0.991096\n",
            "Example no. 715 queried, new accuracy: 0.991096\n",
            "Example no. 165 queried, new accuracy: 0.991096\n",
            "Example no. 40 queried, new accuracy: 0.991096\n",
            "Example no. 1008 queried, new accuracy: 0.991096\n",
            "Example no. 472 queried, new accuracy: 0.991096\n",
            "Example no. 673 queried, new accuracy: 0.991096\n",
            "Example no. 435 queried, new accuracy: 0.991096\n",
            "Example no. 767 queried, new accuracy: 0.991096\n",
            "Example no. 614 queried, new accuracy: 0.991096\n",
            "Example no. 22 queried, new accuracy: 0.991096\n",
            "Example no. 650 queried, new accuracy: 0.991096\n",
            "Example no. 1132 queried, new accuracy: 0.991096\n",
            "Example no. 145 queried, new accuracy: 0.991096\n",
            "Example no. 68 queried, new accuracy: 0.991096\n",
            "Example no. 562 queried, new accuracy: 0.991096\n",
            "Example no. 893 queried, new accuracy: 0.991096\n",
            "Example no. 96 queried, new accuracy: 0.991096\n",
            "Example no. 1104 queried, new accuracy: 0.991096\n",
            "Example no. 835 queried, new accuracy: 0.991096\n",
            "Example no. 854 queried, new accuracy: 0.991096\n",
            "Example no. 91 queried, new accuracy: 0.991096\n",
            "Example no. 604 queried, new accuracy: 0.991096\n",
            "Example no. 1125 queried, new accuracy: 0.991096\n",
            "Example no. 104 queried, new accuracy: 0.991096\n",
            "Example no. 97 queried, new accuracy: 0.991096\n",
            "Example no. 770 queried, new accuracy: 0.991096\n",
            "Example no. 138 queried, new accuracy: 0.991096\n",
            "Example no. 82 queried, new accuracy: 0.991096\n",
            "Example no. 60 queried, new accuracy: 0.991096\n",
            "Example no. 312 queried, new accuracy: 0.991096\n",
            "Example no. 217 queried, new accuracy: 0.991096\n",
            "Example no. 1048 queried, new accuracy: 0.991096\n",
            "Example no. 922 queried, new accuracy: 0.991096\n",
            "Example no. 568 queried, new accuracy: 0.991096\n",
            "Example no. 304 queried, new accuracy: 0.991096\n",
            "Example no. 899 queried, new accuracy: 0.991096\n",
            "Example no. 422 queried, new accuracy: 0.991096\n",
            "Example no. 216 queried, new accuracy: 0.991096\n",
            "Example no. 945 queried, new accuracy: 0.991096\n",
            "Example no. 916 queried, new accuracy: 0.991096\n",
            "Example no. 116 queried, new accuracy: 0.991096\n",
            "Example no. 605 queried, new accuracy: 0.991096\n",
            "Example no. 805 queried, new accuracy: 0.991096\n",
            "Example no. 60 queried, new accuracy: 0.991096\n",
            "Example no. 731 queried, new accuracy: 0.991096\n",
            "Example no. 606 queried, new accuracy: 0.991096\n",
            "Example no. 691 queried, new accuracy: 0.991096\n",
            "Example no. 988 queried, new accuracy: 0.991096\n",
            "Example no. 122 queried, new accuracy: 0.991096\n",
            "Example no. 826 queried, new accuracy: 0.991096\n",
            "Example no. 581 queried, new accuracy: 0.991096\n",
            "Example no. 131 queried, new accuracy: 0.991096\n",
            "Example no. 990 queried, new accuracy: 0.991096\n",
            "Example no. 772 queried, new accuracy: 0.991096\n",
            "Example no. 381 queried, new accuracy: 0.991096\n",
            "Example no. 434 queried, new accuracy: 0.991653\n",
            "Example no. 843 queried, new accuracy: 0.991653\n",
            "Example no. 427 queried, new accuracy: 0.991653\n",
            "Example no. 898 queried, new accuracy: 0.991653\n",
            "Example no. 1057 queried, new accuracy: 0.991653\n",
            "Example no. 265 queried, new accuracy: 0.991653\n",
            "Example no. 29 queried, new accuracy: 0.991653\n",
            "Example no. 87 queried, new accuracy: 0.991653\n",
            "Example no. 928 queried, new accuracy: 0.991653\n",
            "Example no. 273 queried, new accuracy: 0.991653\n",
            "Example no. 715 queried, new accuracy: 0.991653\n",
            "Example no. 550 queried, new accuracy: 0.991653\n",
            "Example no. 698 queried, new accuracy: 0.991653\n",
            "Example no. 63 queried, new accuracy: 0.991653\n",
            "Example no. 57 queried, new accuracy: 0.991653\n",
            "Example no. 771 queried, new accuracy: 0.991653\n",
            "Example no. 980 queried, new accuracy: 0.991653\n",
            "Example no. 692 queried, new accuracy: 0.991653\n",
            "Example no. 35 queried, new accuracy: 0.991653\n",
            "Example no. 1041 queried, new accuracy: 0.991653\n",
            "Example no. 682 queried, new accuracy: 0.991653\n",
            "Example no. 265 queried, new accuracy: 0.991653\n",
            "Example no. 701 queried, new accuracy: 0.991653\n",
            "Example no. 305 queried, new accuracy: 0.991653\n",
            "Example no. 1006 queried, new accuracy: 0.991653\n",
            "Example no. 702 queried, new accuracy: 0.991653\n",
            "Example no. 551 queried, new accuracy: 0.991653\n",
            "Example no. 718 queried, new accuracy: 0.991653\n",
            "Example no. 751 queried, new accuracy: 0.991653\n",
            "Example no. 644 queried, new accuracy: 0.991653\n",
            "Example no. 342 queried, new accuracy: 0.991653\n"
          ],
          "name": "stdout"
        }
      ]
    },
    {
      "cell_type": "markdown",
      "metadata": {
        "id": "RUonOUMJ0XCF",
        "colab_type": "text"
      },
      "source": [
        "97.38"
      ]
    },
    {
      "cell_type": "code",
      "metadata": {
        "id": "KQldklTfihBV",
        "colab_type": "code",
        "colab": {}
      },
      "source": [
        ""
      ],
      "execution_count": null,
      "outputs": []
    }
  ]
}