{
  "nbformat": 4,
  "nbformat_minor": 0,
  "metadata": {
    "colab": {
      "name": "Final least confident sampling-stream-based.ipynb",
      "provenance": [],
      "collapsed_sections": []
    },
    "kernelspec": {
      "name": "python3",
      "display_name": "Python 3"
    }
  },
  "cells": [
    {
      "cell_type": "code",
      "metadata": {
        "id": "ZbN6GxR-eHn1",
        "colab_type": "code",
        "colab": {}
      },
      "source": [
        "import os\n",
        "import numpy as np\n",
        "import matplotlib.pyplot as plt"
      ],
      "execution_count": null,
      "outputs": []
    },
    {
      "cell_type": "code",
      "metadata": {
        "id": "UvL7SD9leNHD",
        "colab_type": "code",
        "colab": {
          "base_uri": "https://localhost:8080/",
          "height": 102
        },
        "outputId": "6e1fc5ae-04ed-414f-f4c7-68a83e0c672f"
      },
      "source": [
        "pip install modAL"
      ],
      "execution_count": null,
      "outputs": [
        {
          "output_type": "stream",
          "text": [
            "Requirement already satisfied: modAL in /usr/local/lib/python3.6/dist-packages (0.3.5)\n",
            "Requirement already satisfied: scipy>=0.18 in /usr/local/lib/python3.6/dist-packages (from modAL) (1.4.1)\n",
            "Requirement already satisfied: numpy>=1.13 in /usr/local/lib/python3.6/dist-packages (from modAL) (1.18.5)\n",
            "Requirement already satisfied: scikit-learn>=0.18 in /usr/local/lib/python3.6/dist-packages (from modAL) (0.22.2.post1)\n",
            "Requirement already satisfied: joblib>=0.11 in /usr/local/lib/python3.6/dist-packages (from scikit-learn>=0.18->modAL) (0.15.1)\n"
          ],
          "name": "stdout"
        }
      ]
    },
    {
      "cell_type": "code",
      "metadata": {
        "id": "Q7NsurY7eR_g",
        "colab_type": "code",
        "colab": {}
      },
      "source": [
        "from sklearn.datasets import load_digits\n",
        "\n",
        "digits = load_digits()"
      ],
      "execution_count": null,
      "outputs": []
    },
    {
      "cell_type": "code",
      "metadata": {
        "id": "kqElzejBeavY",
        "colab_type": "code",
        "colab": {}
      },
      "source": [
        "X_full=digits.data\n",
        "y_full=digits.target"
      ],
      "execution_count": null,
      "outputs": []
    },
    {
      "cell_type": "code",
      "metadata": {
        "id": "Wl0xA0cpee8g",
        "colab_type": "code",
        "colab": {}
      },
      "source": [
        "n_initial = 179\n",
        "initial_idx = np.random.choice(range(len(X_full)), size=n_initial, replace=False)\n",
        "X_train, y_train = X_full[initial_idx], y_full[initial_idx]"
      ],
      "execution_count": null,
      "outputs": []
    },
    {
      "cell_type": "code",
      "metadata": {
        "id": "0EB2Vejse2ob",
        "colab_type": "code",
        "colab": {
          "base_uri": "https://localhost:8080/",
          "height": 34
        },
        "outputId": "feb56293-e3d8-47cd-f773-f185bf6f545c"
      },
      "source": [
        "X_train.shape"
      ],
      "execution_count": null,
      "outputs": [
        {
          "output_type": "execute_result",
          "data": {
            "text/plain": [
              "(179, 64)"
            ]
          },
          "metadata": {
            "tags": []
          },
          "execution_count": 41
        }
      ]
    },
    {
      "cell_type": "markdown",
      "metadata": {
        "id": "7QK9_jkPugei",
        "colab_type": "text"
      },
      "source": [
        "Create pool to query data points from"
      ]
    },
    {
      "cell_type": "code",
      "metadata": {
        "id": "hL75o-SeK3M_",
        "colab_type": "code",
        "colab": {}
      },
      "source": [
        "X_pool = np.delete(X_full, initial_idx, axis=0)\n",
        "y_pool = np.delete(y_full, initial_idx, axis=0)"
      ],
      "execution_count": null,
      "outputs": []
    },
    {
      "cell_type": "code",
      "metadata": {
        "id": "CXIlPoIfe5kq",
        "colab_type": "code",
        "colab": {}
      },
      "source": [
        "y_train.shape\n",
        "from sklearn.neighbors import KNeighborsClassifier\n",
        "from modAL.models import ActiveLearner"
      ],
      "execution_count": null,
      "outputs": []
    },
    {
      "cell_type": "code",
      "metadata": {
        "id": "IagbxoIWe_xg",
        "colab_type": "code",
        "colab": {}
      },
      "source": [
        "knn = KNeighborsClassifier(n_neighbors=3)\n",
        "\n",
        "learner = ActiveLearner(\n",
        "    estimator=knn,\n",
        "    X_training=X_train, y_training=y_train\n",
        ")\n",
        "unqueried_score = learner.score(X_full, y_full)"
      ],
      "execution_count": null,
      "outputs": []
    },
    {
      "cell_type": "code",
      "metadata": {
        "id": "1g6NSW7QfFUV",
        "colab_type": "code",
        "colab": {
          "base_uri": "https://localhost:8080/",
          "height": 34
        },
        "outputId": "24a422b7-6c18-402a-d446-0e2dfa2106df"
      },
      "source": [
        "print('Initial prediction accuracy: %f' % unqueried_score)"
      ],
      "execution_count": null,
      "outputs": [
        {
          "output_type": "stream",
          "text": [
            "Initial prediction accuracy: 0.933779\n"
          ],
          "name": "stdout"
        }
      ]
    },
    {
      "cell_type": "markdown",
      "metadata": {
        "id": "hXCNhLkjulbj",
        "colab_type": "text"
      },
      "source": [
        "Find uncertainty sampling value for setting threshold"
      ]
    },
    {
      "cell_type": "code",
      "metadata": {
        "id": "l9bs-8chfZIh",
        "colab_type": "code",
        "colab": {}
      },
      "source": [
        "from modAL.uncertainty import classifier_uncertainty\n",
        "\n",
        "performance_history = [unqueried_score]"
      ],
      "execution_count": null,
      "outputs": []
    },
    {
      "cell_type": "code",
      "metadata": {
        "id": "8v9jcUyYDpPz",
        "colab_type": "code",
        "colab": {
          "base_uri": "https://localhost:8080/",
          "height": 51
        },
        "outputId": "e3aef361-0cbd-4634-9984-48bac54ef83d"
      },
      "source": [
        "classifier_uncertainty(learner, X_pool)"
      ],
      "execution_count": null,
      "outputs": [
        {
          "output_type": "execute_result",
          "data": {
            "text/plain": [
              "array([0.        , 0.        , 0.        , ..., 0.33333333, 0.33333333,\n",
              "       0.        ])"
            ]
          },
          "metadata": {
            "tags": []
          },
          "execution_count": 48
        }
      ]
    },
    {
      "cell_type": "code",
      "metadata": {
        "id": "glN2Qbnjixb6",
        "colab_type": "code",
        "colab": {
          "base_uri": "https://localhost:8080/",
          "height": 1000
        },
        "outputId": "703c1057-b7b9-40c8-c7de-61fdaa9dac8a"
      },
      "source": [
        "num_q=179\n",
        "\n",
        "while (num_q):\n",
        "    stream_idx = np.random.choice(range(len(X_pool)))\n",
        "    if classifier_uncertainty(learner, X_pool[stream_idx].reshape(1, -1)) >= 0 :\n",
        "      num_q=num_q-1;\n",
        "      learner.teach(X_pool[stream_idx].reshape(1, -1), y_pool[stream_idx].reshape(-1, ))\n",
        "      new_score = learner.score(X_full, y_full)\n",
        "      performance_history.append(new_score)\n",
        "      X_pool = np.delete(X_pool, stream_idx, axis=0)\n",
        "      y_pool = np.delete(y_pool, stream_idx)\n",
        "      print('Example no. %d queried, new accuracy: %f' % (stream_idx, new_score))"
      ],
      "execution_count": null,
      "outputs": [
        {
          "output_type": "stream",
          "text": [
            "Example no. 863 queried, new accuracy: 0.989427\n",
            "Example no. 612 queried, new accuracy: 0.989427\n",
            "Example no. 941 queried, new accuracy: 0.989427\n",
            "Example no. 15 queried, new accuracy: 0.989427\n",
            "Example no. 52 queried, new accuracy: 0.989427\n",
            "Example no. 269 queried, new accuracy: 0.989427\n",
            "Example no. 305 queried, new accuracy: 0.989983\n",
            "Example no. 726 queried, new accuracy: 0.989427\n",
            "Example no. 682 queried, new accuracy: 0.989427\n",
            "Example no. 878 queried, new accuracy: 0.989983\n",
            "Example no. 7 queried, new accuracy: 0.989427\n",
            "Example no. 86 queried, new accuracy: 0.989427\n",
            "Example no. 452 queried, new accuracy: 0.989427\n",
            "Example no. 891 queried, new accuracy: 0.989427\n",
            "Example no. 766 queried, new accuracy: 0.989983\n",
            "Example no. 94 queried, new accuracy: 0.989983\n",
            "Example no. 120 queried, new accuracy: 0.989983\n",
            "Example no. 130 queried, new accuracy: 0.989983\n",
            "Example no. 192 queried, new accuracy: 0.989983\n",
            "Example no. 768 queried, new accuracy: 0.989983\n",
            "Example no. 824 queried, new accuracy: 0.989427\n",
            "Example no. 190 queried, new accuracy: 0.989427\n",
            "Example no. 30 queried, new accuracy: 0.989427\n",
            "Example no. 112 queried, new accuracy: 0.989427\n",
            "Example no. 750 queried, new accuracy: 0.989427\n",
            "Example no. 324 queried, new accuracy: 0.989427\n",
            "Example no. 347 queried, new accuracy: 0.989427\n",
            "Example no. 509 queried, new accuracy: 0.989427\n",
            "Example no. 642 queried, new accuracy: 0.989427\n",
            "Example no. 251 queried, new accuracy: 0.989427\n",
            "Example no. 727 queried, new accuracy: 0.989427\n",
            "Example no. 976 queried, new accuracy: 0.989427\n",
            "Example no. 303 queried, new accuracy: 0.989427\n",
            "Example no. 81 queried, new accuracy: 0.989427\n",
            "Example no. 265 queried, new accuracy: 0.989983\n",
            "Example no. 982 queried, new accuracy: 0.989427\n",
            "Example no. 944 queried, new accuracy: 0.989427\n",
            "Example no. 137 queried, new accuracy: 0.989427\n",
            "Example no. 162 queried, new accuracy: 0.989427\n",
            "Example no. 466 queried, new accuracy: 0.989427\n",
            "Example no. 410 queried, new accuracy: 0.989427\n",
            "Example no. 779 queried, new accuracy: 0.989427\n",
            "Example no. 271 queried, new accuracy: 0.989427\n",
            "Example no. 449 queried, new accuracy: 0.989427\n",
            "Example no. 811 queried, new accuracy: 0.989427\n",
            "Example no. 941 queried, new accuracy: 0.989427\n",
            "Example no. 137 queried, new accuracy: 0.989983\n",
            "Example no. 613 queried, new accuracy: 0.989983\n",
            "Example no. 903 queried, new accuracy: 0.989983\n",
            "Example no. 521 queried, new accuracy: 0.990540\n",
            "Example no. 345 queried, new accuracy: 0.990540\n",
            "Example no. 191 queried, new accuracy: 0.989983\n",
            "Example no. 827 queried, new accuracy: 0.989983\n",
            "Example no. 179 queried, new accuracy: 0.989983\n",
            "Example no. 971 queried, new accuracy: 0.990540\n",
            "Example no. 689 queried, new accuracy: 0.990540\n",
            "Example no. 635 queried, new accuracy: 0.990540\n",
            "Example no. 119 queried, new accuracy: 0.990540\n",
            "Example no. 349 queried, new accuracy: 0.990540\n",
            "Example no. 81 queried, new accuracy: 0.990540\n",
            "Example no. 969 queried, new accuracy: 0.990540\n",
            "Example no. 479 queried, new accuracy: 0.991096\n",
            "Example no. 684 queried, new accuracy: 0.991096\n",
            "Example no. 743 queried, new accuracy: 0.991096\n",
            "Example no. 493 queried, new accuracy: 0.990540\n",
            "Example no. 665 queried, new accuracy: 0.990540\n",
            "Example no. 494 queried, new accuracy: 0.990540\n",
            "Example no. 338 queried, new accuracy: 0.991096\n",
            "Example no. 905 queried, new accuracy: 0.991096\n",
            "Example no. 206 queried, new accuracy: 0.990540\n",
            "Example no. 48 queried, new accuracy: 0.990540\n",
            "Example no. 795 queried, new accuracy: 0.991096\n",
            "Example no. 94 queried, new accuracy: 0.991096\n",
            "Example no. 36 queried, new accuracy: 0.991096\n",
            "Example no. 673 queried, new accuracy: 0.991096\n",
            "Example no. 411 queried, new accuracy: 0.991096\n",
            "Example no. 509 queried, new accuracy: 0.990540\n",
            "Example no. 423 queried, new accuracy: 0.990540\n",
            "Example no. 554 queried, new accuracy: 0.990540\n",
            "Example no. 778 queried, new accuracy: 0.990540\n",
            "Example no. 649 queried, new accuracy: 0.990540\n",
            "Example no. 492 queried, new accuracy: 0.991096\n",
            "Example no. 555 queried, new accuracy: 0.990540\n",
            "Example no. 414 queried, new accuracy: 0.990540\n",
            "Example no. 545 queried, new accuracy: 0.991096\n",
            "Example no. 452 queried, new accuracy: 0.990540\n",
            "Example no. 689 queried, new accuracy: 0.990540\n",
            "Example no. 509 queried, new accuracy: 0.991096\n",
            "Example no. 44 queried, new accuracy: 0.991096\n",
            "Example no. 940 queried, new accuracy: 0.990540\n",
            "Example no. 854 queried, new accuracy: 0.991096\n",
            "Example no. 759 queried, new accuracy: 0.990540\n",
            "Example no. 178 queried, new accuracy: 0.990540\n",
            "Example no. 893 queried, new accuracy: 0.990540\n",
            "Example no. 603 queried, new accuracy: 0.990540\n",
            "Example no. 11 queried, new accuracy: 0.990540\n",
            "Example no. 791 queried, new accuracy: 0.991096\n",
            "Example no. 755 queried, new accuracy: 0.990540\n",
            "Example no. 95 queried, new accuracy: 0.990540\n",
            "Example no. 127 queried, new accuracy: 0.990540\n",
            "Example no. 661 queried, new accuracy: 0.990540\n",
            "Example no. 659 queried, new accuracy: 0.990540\n",
            "Example no. 196 queried, new accuracy: 0.990540\n",
            "Example no. 788 queried, new accuracy: 0.990540\n",
            "Example no. 242 queried, new accuracy: 0.990540\n",
            "Example no. 585 queried, new accuracy: 0.990540\n",
            "Example no. 447 queried, new accuracy: 0.990540\n",
            "Example no. 81 queried, new accuracy: 0.990540\n",
            "Example no. 468 queried, new accuracy: 0.990540\n",
            "Example no. 19 queried, new accuracy: 0.990540\n",
            "Example no. 67 queried, new accuracy: 0.990540\n",
            "Example no. 23 queried, new accuracy: 0.990540\n",
            "Example no. 830 queried, new accuracy: 0.990540\n",
            "Example no. 487 queried, new accuracy: 0.991096\n",
            "Example no. 482 queried, new accuracy: 0.990540\n",
            "Example no. 810 queried, new accuracy: 0.990540\n",
            "Example no. 569 queried, new accuracy: 0.991096\n",
            "Example no. 250 queried, new accuracy: 0.990540\n",
            "Example no. 773 queried, new accuracy: 0.991096\n",
            "Example no. 880 queried, new accuracy: 0.991096\n",
            "Example no. 307 queried, new accuracy: 0.991096\n",
            "Example no. 505 queried, new accuracy: 0.990540\n",
            "Example no. 261 queried, new accuracy: 0.991096\n",
            "Example no. 69 queried, new accuracy: 0.991096\n",
            "Example no. 574 queried, new accuracy: 0.991096\n",
            "Example no. 556 queried, new accuracy: 0.991096\n",
            "Example no. 777 queried, new accuracy: 0.991096\n",
            "Example no. 278 queried, new accuracy: 0.991096\n",
            "Example no. 625 queried, new accuracy: 0.990540\n",
            "Example no. 65 queried, new accuracy: 0.990540\n",
            "Example no. 829 queried, new accuracy: 0.990540\n",
            "Example no. 723 queried, new accuracy: 0.990540\n",
            "Example no. 182 queried, new accuracy: 0.990540\n",
            "Example no. 484 queried, new accuracy: 0.990540\n",
            "Example no. 813 queried, new accuracy: 0.990540\n",
            "Example no. 844 queried, new accuracy: 0.991096\n",
            "Example no. 523 queried, new accuracy: 0.990540\n",
            "Example no. 185 queried, new accuracy: 0.990540\n",
            "Example no. 400 queried, new accuracy: 0.991096\n",
            "Example no. 334 queried, new accuracy: 0.991096\n",
            "Example no. 805 queried, new accuracy: 0.991096\n",
            "Example no. 522 queried, new accuracy: 0.991096\n",
            "Example no. 88 queried, new accuracy: 0.991096\n",
            "Example no. 554 queried, new accuracy: 0.991096\n",
            "Example no. 187 queried, new accuracy: 0.990540\n",
            "Example no. 873 queried, new accuracy: 0.990540\n",
            "Example no. 740 queried, new accuracy: 0.990540\n",
            "Example no. 791 queried, new accuracy: 0.990540\n",
            "Example no. 516 queried, new accuracy: 0.990540\n",
            "Example no. 878 queried, new accuracy: 0.991096\n",
            "Example no. 704 queried, new accuracy: 0.991096\n",
            "Example no. 9 queried, new accuracy: 0.990540\n",
            "Example no. 260 queried, new accuracy: 0.990540\n",
            "Example no. 498 queried, new accuracy: 0.991096\n",
            "Example no. 449 queried, new accuracy: 0.991096\n",
            "Example no. 170 queried, new accuracy: 0.991096\n",
            "Example no. 694 queried, new accuracy: 0.991096\n",
            "Example no. 289 queried, new accuracy: 0.990540\n",
            "Example no. 650 queried, new accuracy: 0.990540\n",
            "Example no. 532 queried, new accuracy: 0.991096\n",
            "Example no. 143 queried, new accuracy: 0.991096\n",
            "Example no. 535 queried, new accuracy: 0.991096\n",
            "Example no. 533 queried, new accuracy: 0.990540\n",
            "Example no. 181 queried, new accuracy: 0.990540\n",
            "Example no. 11 queried, new accuracy: 0.990540\n",
            "Example no. 864 queried, new accuracy: 0.990540\n",
            "Example no. 469 queried, new accuracy: 0.991096\n",
            "Example no. 218 queried, new accuracy: 0.991096\n",
            "Example no. 825 queried, new accuracy: 0.991096\n",
            "Example no. 607 queried, new accuracy: 0.991096\n",
            "Example no. 634 queried, new accuracy: 0.991096\n",
            "Example no. 230 queried, new accuracy: 0.991096\n",
            "Example no. 546 queried, new accuracy: 0.991096\n",
            "Example no. 45 queried, new accuracy: 0.991096\n",
            "Example no. 320 queried, new accuracy: 0.991096\n",
            "Example no. 805 queried, new accuracy: 0.991096\n",
            "Example no. 80 queried, new accuracy: 0.991096\n",
            "Example no. 708 queried, new accuracy: 0.991096\n",
            "Example no. 567 queried, new accuracy: 0.991096\n"
          ],
          "name": "stdout"
        }
      ]
    },
    {
      "cell_type": "markdown",
      "metadata": {
        "id": "n5DhdkQwtylZ",
        "colab_type": "text"
      },
      "source": [
        "after querring 48 points with threshold 0.4, accuracy incrased to 96.21%\n",
        "querying 179 points with threshold 0.3, accuracy increased to 99.05%\n",
        "first 179 points, 98.77%"
      ]
    },
    {
      "cell_type": "code",
      "metadata": {
        "id": "_d-p5D-1hEVd",
        "colab_type": "code",
        "colab": {
          "base_uri": "https://localhost:8080/",
          "height": 1000
        },
        "outputId": "9497e616-93aa-425e-f16c-021a6e9fee69"
      },
      "source": [
        "num_q=179\n",
        "while (num_q):\n",
        "    stream_idx = np.random.choice(range(len(X_full)))\n",
        "    \n",
        "    if classifier_uncertainty(learner, X_full[stream_idx].reshape(1, -1)) >= 0.05 :\n",
        "        num_q=num_q-1;\n",
        "        learner.teach(X_full[stream_idx].reshape(1, -1), y_full[stream_idx].reshape(-1, ))\n",
        "        new_score = learner.score(X_full, y_full)\n",
        "        performance_history.append(new_score)\n",
        "        print('Example no. %d queried, new accuracy: %f' % (stream_idx, new_score))"
      ],
      "execution_count": null,
      "outputs": [
        {
          "output_type": "stream",
          "text": [
            "Example no. 1194 queried, new accuracy: 0.932666\n",
            "Example no. 645 queried, new accuracy: 0.932666\n",
            "Example no. 361 queried, new accuracy: 0.937674\n",
            "Example no. 1552 queried, new accuracy: 0.938230\n",
            "Example no. 1485 queried, new accuracy: 0.937674\n",
            "Example no. 1664 queried, new accuracy: 0.938787\n",
            "Example no. 1628 queried, new accuracy: 0.939343\n",
            "Example no. 738 queried, new accuracy: 0.941013\n",
            "Example no. 697 queried, new accuracy: 0.943239\n",
            "Example no. 1723 queried, new accuracy: 0.943239\n",
            "Example no. 563 queried, new accuracy: 0.943239\n",
            "Example no. 705 queried, new accuracy: 0.943795\n",
            "Example no. 115 queried, new accuracy: 0.946021\n",
            "Example no. 813 queried, new accuracy: 0.945465\n",
            "Example no. 113 queried, new accuracy: 0.946021\n",
            "Example no. 1712 queried, new accuracy: 0.946021\n",
            "Example no. 348 queried, new accuracy: 0.946021\n",
            "Example no. 1496 queried, new accuracy: 0.947134\n",
            "Example no. 1203 queried, new accuracy: 0.947691\n",
            "Example no. 237 queried, new accuracy: 0.948247\n",
            "Example no. 905 queried, new accuracy: 0.948247\n",
            "Example no. 673 queried, new accuracy: 0.950473\n",
            "Example no. 1113 queried, new accuracy: 0.951029\n",
            "Example no. 964 queried, new accuracy: 0.952142\n",
            "Example no. 225 queried, new accuracy: 0.952699\n",
            "Example no. 732 queried, new accuracy: 0.953255\n",
            "Example no. 1542 queried, new accuracy: 0.959377\n",
            "Example no. 1696 queried, new accuracy: 0.962716\n",
            "Example no. 1308 queried, new accuracy: 0.962716\n",
            "Example no. 922 queried, new accuracy: 0.962159\n",
            "Example no. 1574 queried, new accuracy: 0.962159\n",
            "Example no. 759 queried, new accuracy: 0.963272\n",
            "Example no. 421 queried, new accuracy: 0.963272\n",
            "Example no. 414 queried, new accuracy: 0.963272\n",
            "Example no. 1158 queried, new accuracy: 0.964385\n",
            "Example no. 1632 queried, new accuracy: 0.964385\n",
            "Example no. 818 queried, new accuracy: 0.964385\n",
            "Example no. 1165 queried, new accuracy: 0.966055\n",
            "Example no. 700 queried, new accuracy: 0.964942\n",
            "Example no. 608 queried, new accuracy: 0.964942\n",
            "Example no. 1523 queried, new accuracy: 0.964942\n",
            "Example no. 891 queried, new accuracy: 0.964942\n",
            "Example no. 519 queried, new accuracy: 0.965498\n",
            "Example no. 1495 queried, new accuracy: 0.965498\n",
            "Example no. 492 queried, new accuracy: 0.965498\n",
            "Example no. 1038 queried, new accuracy: 0.964942\n",
            "Example no. 903 queried, new accuracy: 0.964942\n",
            "Example no. 746 queried, new accuracy: 0.964942\n",
            "Example no. 116 queried, new accuracy: 0.964942\n",
            "Example no. 987 queried, new accuracy: 0.965498\n",
            "Example no. 993 queried, new accuracy: 0.966055\n",
            "Example no. 420 queried, new accuracy: 0.966055\n",
            "Example no. 1108 queried, new accuracy: 0.966055\n",
            "Example no. 203 queried, new accuracy: 0.965498\n",
            "Example no. 480 queried, new accuracy: 0.965498\n",
            "Example no. 469 queried, new accuracy: 0.964942\n",
            "Example no. 1795 queried, new accuracy: 0.965498\n",
            "Example no. 934 queried, new accuracy: 0.967168\n",
            "Example no. 906 queried, new accuracy: 0.966611\n",
            "Example no. 116 queried, new accuracy: 0.966055\n",
            "Example no. 127 queried, new accuracy: 0.965498\n",
            "Example no. 832 queried, new accuracy: 0.964942\n",
            "Example no. 241 queried, new accuracy: 0.966055\n",
            "Example no. 469 queried, new accuracy: 0.965498\n",
            "Example no. 1249 queried, new accuracy: 0.966611\n",
            "Example no. 309 queried, new accuracy: 0.969950\n",
            "Example no. 818 queried, new accuracy: 0.969393\n",
            "Example no. 538 queried, new accuracy: 0.969393\n",
            "Example no. 1520 queried, new accuracy: 0.969393\n",
            "Example no. 1064 queried, new accuracy: 0.969950\n",
            "Example no. 1468 queried, new accuracy: 0.970506\n",
            "Example no. 1209 queried, new accuracy: 0.970506\n",
            "Example no. 1581 queried, new accuracy: 0.970506\n",
            "Example no. 1717 queried, new accuracy: 0.970506\n",
            "Example no. 69 queried, new accuracy: 0.970506\n",
            "Example no. 1152 queried, new accuracy: 0.970506\n",
            "Example no. 1794 queried, new accuracy: 0.971619\n",
            "Example no. 605 queried, new accuracy: 0.972732\n",
            "Example no. 1022 queried, new accuracy: 0.973289\n",
            "Example no. 1274 queried, new accuracy: 0.973289\n",
            "Example no. 69 queried, new accuracy: 0.972176\n",
            "Example no. 523 queried, new accuracy: 0.973845\n",
            "Example no. 1108 queried, new accuracy: 0.973845\n",
            "Example no. 1130 queried, new accuracy: 0.973845\n",
            "Example no. 1570 queried, new accuracy: 0.973845\n",
            "Example no. 1602 queried, new accuracy: 0.973289\n",
            "Example no. 1256 queried, new accuracy: 0.974402\n",
            "Example no. 1242 queried, new accuracy: 0.974402\n",
            "Example no. 1412 queried, new accuracy: 0.974402\n",
            "Example no. 1617 queried, new accuracy: 0.974958\n",
            "Example no. 1617 queried, new accuracy: 0.974402\n",
            "Example no. 402 queried, new accuracy: 0.974958\n",
            "Example no. 1562 queried, new accuracy: 0.974958\n",
            "Example no. 378 queried, new accuracy: 0.976628\n",
            "Example no. 1551 queried, new accuracy: 0.977184\n",
            "Example no. 985 queried, new accuracy: 0.977184\n",
            "Example no. 578 queried, new accuracy: 0.977741\n",
            "Example no. 1256 queried, new accuracy: 0.977741\n",
            "Example no. 617 queried, new accuracy: 0.977741\n",
            "Example no. 555 queried, new accuracy: 0.978297\n",
            "Example no. 569 queried, new accuracy: 0.978297\n",
            "Example no. 1606 queried, new accuracy: 0.978854\n",
            "Example no. 1443 queried, new accuracy: 0.978854\n",
            "Example no. 1685 queried, new accuracy: 0.978854\n",
            "Example no. 397 queried, new accuracy: 0.978854\n",
            "Example no. 903 queried, new accuracy: 0.979410\n",
            "Example no. 780 queried, new accuracy: 0.979410\n",
            "Example no. 945 queried, new accuracy: 0.979967\n",
            "Example no. 1671 queried, new accuracy: 0.979967\n",
            "Example no. 75 queried, new accuracy: 0.980523\n",
            "Example no. 1070 queried, new accuracy: 0.980523\n",
            "Example no. 1553 queried, new accuracy: 0.980523\n",
            "Example no. 513 queried, new accuracy: 0.980523\n",
            "Example no. 378 queried, new accuracy: 0.980523\n",
            "Example no. 1103 queried, new accuracy: 0.981636\n",
            "Example no. 1611 queried, new accuracy: 0.981636\n",
            "Example no. 746 queried, new accuracy: 0.981080\n",
            "Example no. 1022 queried, new accuracy: 0.981080\n",
            "Example no. 27 queried, new accuracy: 0.981080\n",
            "Example no. 903 queried, new accuracy: 0.981080\n",
            "Example no. 37 queried, new accuracy: 0.981636\n",
            "Example no. 1006 queried, new accuracy: 0.981636\n",
            "Example no. 87 queried, new accuracy: 0.982193\n",
            "Example no. 432 queried, new accuracy: 0.982193\n",
            "Example no. 477 queried, new accuracy: 0.981636\n",
            "Example no. 187 queried, new accuracy: 0.981636\n",
            "Example no. 780 queried, new accuracy: 0.981636\n",
            "Example no. 73 queried, new accuracy: 0.982193\n",
            "Example no. 1132 queried, new accuracy: 0.982193\n",
            "Example no. 1794 queried, new accuracy: 0.982193\n",
            "Example no. 1080 queried, new accuracy: 0.983306\n",
            "Example no. 813 queried, new accuracy: 0.982193\n",
            "Example no. 1037 queried, new accuracy: 0.982749\n",
            "Example no. 1103 queried, new accuracy: 0.982749\n",
            "Example no. 1727 queried, new accuracy: 0.982749\n",
            "Example no. 729 queried, new accuracy: 0.983306\n",
            "Example no. 1729 queried, new accuracy: 0.983862\n",
            "Example no. 705 queried, new accuracy: 0.983862\n",
            "Example no. 1666 queried, new accuracy: 0.984418\n",
            "Example no. 843 queried, new accuracy: 0.984418\n",
            "Example no. 698 queried, new accuracy: 0.984418\n",
            "Example no. 1726 queried, new accuracy: 0.984975\n",
            "Example no. 420 queried, new accuracy: 0.984418\n",
            "Example no. 445 queried, new accuracy: 0.984418\n",
            "Example no. 905 queried, new accuracy: 0.984418\n",
            "Example no. 701 queried, new accuracy: 0.984418\n",
            "Example no. 942 queried, new accuracy: 0.983862\n",
            "Example no. 998 queried, new accuracy: 0.983862\n",
            "Example no. 1632 queried, new accuracy: 0.983862\n",
            "Example no. 1538 queried, new accuracy: 0.983306\n",
            "Example no. 843 queried, new accuracy: 0.983306\n",
            "Example no. 5 queried, new accuracy: 0.982749\n",
            "Example no. 1763 queried, new accuracy: 0.983306\n",
            "Example no. 384 queried, new accuracy: 0.982193\n",
            "Example no. 1058 queried, new accuracy: 0.982193\n",
            "Example no. 73 queried, new accuracy: 0.982749\n",
            "Example no. 1210 queried, new accuracy: 0.982749\n",
            "Example no. 701 queried, new accuracy: 0.983306\n",
            "Example no. 1656 queried, new accuracy: 0.983306\n",
            "Example no. 779 queried, new accuracy: 0.983862\n",
            "Example no. 1690 queried, new accuracy: 0.983862\n",
            "Example no. 1363 queried, new accuracy: 0.983306\n",
            "Example no. 745 queried, new accuracy: 0.983306\n",
            "Example no. 670 queried, new accuracy: 0.983306\n",
            "Example no. 1605 queried, new accuracy: 0.983306\n",
            "Example no. 738 queried, new accuracy: 0.982749\n",
            "Example no. 1152 queried, new accuracy: 0.982749\n",
            "Example no. 1209 queried, new accuracy: 0.982749\n",
            "Example no. 1790 queried, new accuracy: 0.982749\n",
            "Example no. 421 queried, new accuracy: 0.983306\n",
            "Example no. 69 queried, new accuracy: 0.983306\n",
            "Example no. 592 queried, new accuracy: 0.983862\n",
            "Example no. 670 queried, new accuracy: 0.983862\n",
            "Example no. 1468 queried, new accuracy: 0.983862\n",
            "Example no. 1671 queried, new accuracy: 0.983862\n",
            "Example no. 813 queried, new accuracy: 0.983862\n",
            "Example no. 779 queried, new accuracy: 0.983862\n",
            "Example no. 1080 queried, new accuracy: 0.983862\n",
            "Example no. 555 queried, new accuracy: 0.983862\n"
          ],
          "name": "stdout"
        }
      ]
    },
    {
      "cell_type": "code",
      "metadata": {
        "id": "KQldklTfihBV",
        "colab_type": "code",
        "colab": {}
      },
      "source": [
        ""
      ],
      "execution_count": null,
      "outputs": []
    }
  ]
}