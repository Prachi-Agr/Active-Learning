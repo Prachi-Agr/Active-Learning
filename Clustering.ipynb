{
  "nbformat": 4,
  "nbformat_minor": 0,
  "metadata": {
    "colab": {
      "name": "Clustering ",
      "provenance": []
    },
    "kernelspec": {
      "name": "python3",
      "display_name": "Python 3"
    }
  },
  "cells": [
    {
      "cell_type": "code",
      "metadata": {
        "id": "MUNUlivXtdpN",
        "colab_type": "code",
        "colab": {}
      },
      "source": [
        "import os\n",
        "import numpy as np\n",
        "import matplotlib.pyplot as plt"
      ],
      "execution_count": null,
      "outputs": []
    },
    {
      "cell_type": "code",
      "metadata": {
        "id": "D3wQSdDktrk-",
        "colab_type": "code",
        "colab": {
          "base_uri": "https://localhost:8080/",
          "height": 150
        },
        "outputId": "3138b47c-2c8a-4ed8-e725-4065ab59b16a"
      },
      "source": [
        "pip install modAL"
      ],
      "execution_count": null,
      "outputs": [
        {
          "output_type": "stream",
          "text": [
            "Collecting modAL\n",
            "  Downloading https://files.pythonhosted.org/packages/1a/36/9558ec3ee50263f10a47c425b43941a9018eebcbd8a95685cb7b2363704c/modAL-0.3.5-py3-none-any.whl\n",
            "Requirement already satisfied: scikit-learn>=0.18 in /usr/local/lib/python3.6/dist-packages (from modAL) (0.22.2.post1)\n",
            "Requirement already satisfied: scipy>=0.18 in /usr/local/lib/python3.6/dist-packages (from modAL) (1.4.1)\n",
            "Requirement already satisfied: numpy>=1.13 in /usr/local/lib/python3.6/dist-packages (from modAL) (1.18.5)\n",
            "Requirement already satisfied: joblib>=0.11 in /usr/local/lib/python3.6/dist-packages (from scikit-learn>=0.18->modAL) (0.15.1)\n",
            "Installing collected packages: modAL\n",
            "Successfully installed modAL-0.3.5\n"
          ],
          "name": "stdout"
        }
      ]
    },
    {
      "cell_type": "code",
      "metadata": {
        "id": "fdZ4WCcitt5L",
        "colab_type": "code",
        "colab": {}
      },
      "source": [
        "from sklearn.datasets import load_digits\n",
        "\n",
        "digits = load_digits()"
      ],
      "execution_count": null,
      "outputs": []
    },
    {
      "cell_type": "code",
      "metadata": {
        "id": "WMnUrdoStwcR",
        "colab_type": "code",
        "colab": {}
      },
      "source": [
        "x_raw=digits['data']\n",
        "y_raw=digits['target']"
      ],
      "execution_count": null,
      "outputs": []
    },
    {
      "cell_type": "code",
      "metadata": {
        "id": "p3-a03zst8Ug",
        "colab_type": "code",
        "colab": {}
      },
      "source": [
        "n_labeled_examples = x_raw.shape[0]\n"
      ],
      "execution_count": null,
      "outputs": []
    },
    {
      "cell_type": "code",
      "metadata": {
        "id": "NgSLB1pdunaO",
        "colab_type": "code",
        "colab": {
          "base_uri": "https://localhost:8080/",
          "height": 33
        },
        "outputId": "3f1f260f-61f8-4188-cc30-d388690ac523"
      },
      "source": [
        "n_labeled_examples"
      ],
      "execution_count": null,
      "outputs": [
        {
          "output_type": "execute_result",
          "data": {
            "text/plain": [
              "1797"
            ]
          },
          "metadata": {
            "tags": []
          },
          "execution_count": 6
        }
      ]
    },
    {
      "cell_type": "code",
      "metadata": {
        "id": "sJ1uDLS4tyze",
        "colab_type": "code",
        "colab": {}
      },
      "source": [
        "training_indices = np.random.randint(low=0, high=n_labeled_examples + 1, size=179)\n"
      ],
      "execution_count": null,
      "outputs": []
    },
    {
      "cell_type": "code",
      "metadata": {
        "id": "qJDgqB84t1bp",
        "colab_type": "code",
        "colab": {}
      },
      "source": [
        "X_train = x_raw[training_indices]\n",
        "y_train = y_raw[training_indices]"
      ],
      "execution_count": null,
      "outputs": []
    },
    {
      "cell_type": "code",
      "metadata": {
        "id": "h5T3vkbvuBWQ",
        "colab_type": "code",
        "colab": {}
      },
      "source": [
        "X_pool = np.delete(x_raw, training_indices, axis=0)\n",
        "y_pool = np.delete(y_raw, training_indices, axis=0)"
      ],
      "execution_count": null,
      "outputs": []
    },
    {
      "cell_type": "code",
      "metadata": {
        "id": "QzL0lcDfusY9",
        "colab_type": "code",
        "colab": {
          "base_uri": "https://localhost:8080/",
          "height": 33
        },
        "outputId": "00e5dbb0-e905-4d00-f53d-76c29dbac457"
      },
      "source": [
        "X_pool.shape[0]"
      ],
      "execution_count": null,
      "outputs": [
        {
          "output_type": "execute_result",
          "data": {
            "text/plain": [
              "1626"
            ]
          },
          "metadata": {
            "tags": []
          },
          "execution_count": 10
        }
      ]
    },
    {
      "cell_type": "code",
      "metadata": {
        "id": "7QmevHIsuh4n",
        "colab_type": "code",
        "colab": {}
      },
      "source": [
        "cluster= np.random.randint(low=0, high=1625, size=650)"
      ],
      "execution_count": null,
      "outputs": []
    },
    {
      "cell_type": "code",
      "metadata": {
        "id": "K4ci6c3jvHs6",
        "colab_type": "code",
        "colab": {}
      },
      "source": [
        "X_cluster= x_raw[cluster]\n",
        "y_cluster= y_raw[cluster]"
      ],
      "execution_count": null,
      "outputs": []
    },
    {
      "cell_type": "code",
      "metadata": {
        "id": "HLvdEETJqUnQ",
        "colab_type": "code",
        "colab": {
          "base_uri": "https://localhost:8080/",
          "height": 265
        },
        "outputId": "27faadc4-5b1f-4b57-f0b0-ac36aab05f8f"
      },
      "source": [
        "from sklearn.decomposition import PCA\n",
        "\n",
        "pca = PCA(n_components=2).fit(X_cluster)\n",
        "pca_2d = pca.transform(X_cluster)\n",
        "\n",
        "import pylab as pl\n",
        "for i in range(0, pca_2d.shape[0]):\n",
        "  if y_cluster[i] == 0:\n",
        "    c1 = pl.scatter(pca_2d[i,0],pca_2d[i,1])\n",
        "  elif y_cluster[i] == 1:\n",
        "    c2 = pl.scatter(pca_2d[i,0],pca_2d[i,1])\n",
        "  elif y_cluster[i] == 2:\n",
        "    c3 = pl.scatter(pca_2d[i,0],pca_2d[i,1])\n",
        "  elif y_cluster[i] == 3:\n",
        "    c4 = pl.scatter(pca_2d[i,0],pca_2d[i,1])\n",
        "  elif y_cluster[i] == 4:\n",
        "    c5 = pl.scatter(pca_2d[i,0],pca_2d[i,1])\n",
        "  elif y_cluster[i] == 5:\n",
        "    c6 = pl.scatter(pca_2d[i,0],pca_2d[i,1])\n",
        "  elif y_cluster[i] == 6:\n",
        "    c7 = pl.scatter(pca_2d[i,0],pca_2d[i,1])\n",
        "  elif y_cluster[i] == 7:\n",
        "    c8 = pl.scatter(pca_2d[i,0],pca_2d[i,1])\n",
        "  elif y_cluster[i] == 8:\n",
        "    c9 = pl.scatter(pca_2d[i,0],pca_2d[i,1])\n",
        "  elif y_cluster[i] == 9:\n",
        "    c10 = pl.scatter(pca_2d[i,0],pca_2d[i,1])\n",
        "\n",
        "\n",
        "\n",
        "pl.legend([c1, c2, c3,c4,c5,c6,c7,c8,c9,c10], ['Digit 0', 'Digit 1','Digit 2','Digit 3','Digit 4','Digit 5','Digit 6','Digit 7','Digit 8','Digit 9'])\n",
        "pl.show()"
      ],
      "execution_count": null,
      "outputs": [
        {
          "output_type": "display_data",
          "data": {
            "image/png": "[encoded data removed]",
            "text/plain": [
              "<Figure size 432x288 with 1 Axes>"
            ]
          },
          "metadata": {
            "tags": [],
            "needs_background": "light"
          }
        }
      ]
    },
    {
      "cell_type": "code",
      "metadata": {
        "id": "vsWRC_MduDuT",
        "colab_type": "code",
        "colab": {}
      },
      "source": [
        "from sklearn.cluster import KMeans\n"
      ],
      "execution_count": null,
      "outputs": []
    },
    {
      "cell_type": "code",
      "metadata": {
        "id": "BQs1pQHIufRR",
        "colab_type": "code",
        "colab": {}
      },
      "source": [
        "kmeans = KMeans(n_clusters=10, random_state=0).fit(X_cluster)"
      ],
      "execution_count": null,
      "outputs": []
    },
    {
      "cell_type": "code",
      "metadata": {
        "id": "HDNClqYUwJwL",
        "colab_type": "code",
        "colab": {}
      },
      "source": [
        "labels=kmeans.labels_"
      ],
      "execution_count": null,
      "outputs": []
    },
    {
      "cell_type": "code",
      "metadata": {
        "id": "SJXyEJ11tVfe",
        "colab_type": "code",
        "colab": {
          "base_uri": "https://localhost:8080/",
          "height": 265
        },
        "outputId": "190ddce7-8d97-4bb0-b69e-a89966c6b957"
      },
      "source": [
        "for i in range(0, pca_2d.shape[0]):\n",
        "  if kmeans.labels_[i] == 0:\n",
        "    c1 = pl.scatter(pca_2d[i,0],pca_2d[i,1])\n",
        "  elif kmeans.labels_[i] == 1:\n",
        "    c2 = pl.scatter(pca_2d[i,0],pca_2d[i,1])\n",
        "  elif kmeans.labels_[i] == 2:\n",
        "    c3 = pl.scatter(pca_2d[i,0],pca_2d[i,1])\n",
        "  elif kmeans.labels_[i] == 3:\n",
        "    c4 = pl.scatter(pca_2d[i,0],pca_2d[i,1])\n",
        "  elif kmeans.labels_[i] == 4:\n",
        "    c5 = pl.scatter(pca_2d[i,0],pca_2d[i,1])\n",
        "  elif kmeans.labels_[i] == 5:\n",
        "    c6 = pl.scatter(pca_2d[i,0],pca_2d[i,1])\n",
        "  elif kmeans.labels_[i] == 6:\n",
        "    c7 = pl.scatter(pca_2d[i,0],pca_2d[i,1])\n",
        "  elif kmeans.labels_[i] == 7:\n",
        "    c8 = pl.scatter(pca_2d[i,0],pca_2d[i,1])\n",
        "  elif kmeans.labels_[i] == 8:\n",
        "    c9 = pl.scatter(pca_2d[i,0],pca_2d[i,1])\n",
        "  elif kmeans.labels_[i] == 9:\n",
        "    c10 = pl.scatter(pca_2d[i,0],pca_2d[i,1])\n",
        "\n"
      ],
      "execution_count": null,
      "outputs": [
        {
          "output_type": "display_data",
          "data": {
            "image/png": "[encoded data removed]",
            "text/plain": [
              "<Figure size 432x288 with 1 Axes>"
            ]
          },
          "metadata": {
            "tags": [],
            "needs_background": "light"
          }
        }
      ]
    },
    {
      "cell_type": "code",
      "metadata": {
        "id": "cv-Mkpn2wjUY",
        "colab_type": "code",
        "colab": {
          "base_uri": "https://localhost:8080/",
          "height": 33
        },
        "outputId": "8affd3d5-a10f-4d7d-fbf1-816eedc360ed"
      },
      "source": [
        "y_cluster[0]"
      ],
      "execution_count": null,
      "outputs": [
        {
          "output_type": "execute_result",
          "data": {
            "text/plain": [
              "0"
            ]
          },
          "metadata": {
            "tags": []
          },
          "execution_count": 18
        }
      ]
    },
    {
      "cell_type": "code",
      "metadata": {
        "id": "jYqh5_sEySrv",
        "colab_type": "code",
        "colab": {
          "base_uri": "https://localhost:8080/",
          "height": 33
        },
        "outputId": "5ad47f66-54d5-4028-9557-cd7366c8fd1d"
      },
      "source": [
        "labels[0]==1"
      ],
      "execution_count": null,
      "outputs": [
        {
          "output_type": "execute_result",
          "data": {
            "text/plain": [
              "False"
            ]
          },
          "metadata": {
            "tags": []
          },
          "execution_count": 19
        }
      ]
    },
    {
      "cell_type": "code",
      "metadata": {
        "id": "wLafMDiOz2ky",
        "colab_type": "code",
        "colab": {}
      },
      "source": [
        "dict={}\n",
        "dict.update({0:[],1:[],2:[],3:[],4:[],5:[],6:[],7:[],8:[],9:[]})"
      ],
      "execution_count": null,
      "outputs": []
    },
    {
      "cell_type": "code",
      "metadata": {
        "id": "Lw59nH9G1Ian",
        "colab_type": "code",
        "colab": {}
      },
      "source": [
        "for i in range(650):\n",
        "  dict[labels[i]].append(i)\n"
      ],
      "execution_count": null,
      "outputs": []
    },
    {
      "cell_type": "code",
      "metadata": {
        "id": "qvsZIsZ5Fvvw",
        "colab_type": "code",
        "colab": {
          "base_uri": "https://localhost:8080/",
          "height": 1000
        },
        "outputId": "362048a1-b71c-4999-f6e7-46925df2626e"
      },
      "source": [
        "dict"
      ],
      "execution_count": null,
      "outputs": [
        {
          "output_type": "execute_result",
          "data": {
            "text/plain": [
              "{0: [5,\n",
              "  29,\n",
              "  33,\n",
              "  49,\n",
              "  50,\n",
              "  78,\n",
              "  105,\n",
              "  117,\n",
              "  140,\n",
              "  156,\n",
              "  160,\n",
              "  176,\n",
              "  256,\n",
              "  260,\n",
              "  273,\n",
              "  297,\n",
              "  301,\n",
              "  310,\n",
              "  328,\n",
              "  339,\n",
              "  354,\n",
              "  369,\n",
              "  373,\n",
              "  388,\n",
              "  398,\n",
              "  408,\n",
              "  433,\n",
              "  440,\n",
              "  452,\n",
              "  490,\n",
              "  500,\n",
              "  523,\n",
              "  535,\n",
              "  538,\n",
              "  548,\n",
              "  561,\n",
              "  565,\n",
              "  578,\n",
              "  583,\n",
              "  597],\n",
              " 1: [17,\n",
              "  19,\n",
              "  31,\n",
              "  37,\n",
              "  46,\n",
              "  69,\n",
              "  83,\n",
              "  85,\n",
              "  89,\n",
              "  99,\n",
              "  106,\n",
              "  173,\n",
              "  191,\n",
              "  195,\n",
              "  206,\n",
              "  212,\n",
              "  233,\n",
              "  240,\n",
              "  249,\n",
              "  265,\n",
              "  267,\n",
              "  269,\n",
              "  277,\n",
              "  278,\n",
              "  281,\n",
              "  298,\n",
              "  314,\n",
              "  317,\n",
              "  326,\n",
              "  333,\n",
              "  350,\n",
              "  355,\n",
              "  361,\n",
              "  362,\n",
              "  374,\n",
              "  399,\n",
              "  416,\n",
              "  431,\n",
              "  435,\n",
              "  437,\n",
              "  467,\n",
              "  485,\n",
              "  489,\n",
              "  495,\n",
              "  513,\n",
              "  520,\n",
              "  521,\n",
              "  543,\n",
              "  551,\n",
              "  562,\n",
              "  570,\n",
              "  604,\n",
              "  606,\n",
              "  610,\n",
              "  623,\n",
              "  632,\n",
              "  636],\n",
              " 2: [0,\n",
              "  4,\n",
              "  7,\n",
              "  9,\n",
              "  12,\n",
              "  18,\n",
              "  25,\n",
              "  40,\n",
              "  45,\n",
              "  60,\n",
              "  63,\n",
              "  73,\n",
              "  75,\n",
              "  98,\n",
              "  103,\n",
              "  113,\n",
              "  120,\n",
              "  121,\n",
              "  122,\n",
              "  130,\n",
              "  132,\n",
              "  133,\n",
              "  134,\n",
              "  141,\n",
              "  147,\n",
              "  161,\n",
              "  162,\n",
              "  174,\n",
              "  175,\n",
              "  178,\n",
              "  183,\n",
              "  184,\n",
              "  186,\n",
              "  189,\n",
              "  197,\n",
              "  203,\n",
              "  205,\n",
              "  222,\n",
              "  228,\n",
              "  229,\n",
              "  250,\n",
              "  251,\n",
              "  259,\n",
              "  299,\n",
              "  305,\n",
              "  306,\n",
              "  308,\n",
              "  334,\n",
              "  351,\n",
              "  358,\n",
              "  377,\n",
              "  394,\n",
              "  404,\n",
              "  423,\n",
              "  426,\n",
              "  455,\n",
              "  462,\n",
              "  465,\n",
              "  474,\n",
              "  484,\n",
              "  486,\n",
              "  487,\n",
              "  502,\n",
              "  503,\n",
              "  505,\n",
              "  516,\n",
              "  519,\n",
              "  530,\n",
              "  582,\n",
              "  595,\n",
              "  611,\n",
              "  614,\n",
              "  617,\n",
              "  619,\n",
              "  624,\n",
              "  627,\n",
              "  637],\n",
              " 3: [23,\n",
              "  28,\n",
              "  30,\n",
              "  38,\n",
              "  43,\n",
              "  57,\n",
              "  65,\n",
              "  72,\n",
              "  87,\n",
              "  94,\n",
              "  96,\n",
              "  112,\n",
              "  119,\n",
              "  125,\n",
              "  129,\n",
              "  150,\n",
              "  154,\n",
              "  155,\n",
              "  166,\n",
              "  182,\n",
              "  185,\n",
              "  187,\n",
              "  192,\n",
              "  196,\n",
              "  218,\n",
              "  226,\n",
              "  237,\n",
              "  241,\n",
              "  242,\n",
              "  245,\n",
              "  247,\n",
              "  258,\n",
              "  261,\n",
              "  264,\n",
              "  280,\n",
              "  282,\n",
              "  344,\n",
              "  357,\n",
              "  376,\n",
              "  393,\n",
              "  405,\n",
              "  407,\n",
              "  410,\n",
              "  415,\n",
              "  463,\n",
              "  471,\n",
              "  476,\n",
              "  477,\n",
              "  478,\n",
              "  497,\n",
              "  511,\n",
              "  528,\n",
              "  529,\n",
              "  550,\n",
              "  598,\n",
              "  628,\n",
              "  633],\n",
              " 4: [8,\n",
              "  13,\n",
              "  16,\n",
              "  39,\n",
              "  58,\n",
              "  70,\n",
              "  84,\n",
              "  86,\n",
              "  93,\n",
              "  107,\n",
              "  123,\n",
              "  136,\n",
              "  137,\n",
              "  153,\n",
              "  157,\n",
              "  179,\n",
              "  188,\n",
              "  190,\n",
              "  193,\n",
              "  200,\n",
              "  207,\n",
              "  209,\n",
              "  219,\n",
              "  252,\n",
              "  254,\n",
              "  262,\n",
              "  272,\n",
              "  289,\n",
              "  300,\n",
              "  303,\n",
              "  307,\n",
              "  325,\n",
              "  343,\n",
              "  345,\n",
              "  347,\n",
              "  378,\n",
              "  381,\n",
              "  383,\n",
              "  387,\n",
              "  397,\n",
              "  402,\n",
              "  417,\n",
              "  420,\n",
              "  436,\n",
              "  442,\n",
              "  466,\n",
              "  472,\n",
              "  473,\n",
              "  501,\n",
              "  514,\n",
              "  522,\n",
              "  525,\n",
              "  540,\n",
              "  552,\n",
              "  554,\n",
              "  555,\n",
              "  569,\n",
              "  585,\n",
              "  590,\n",
              "  600,\n",
              "  601,\n",
              "  621,\n",
              "  648],\n",
              " 5: [20,\n",
              "  21,\n",
              "  27,\n",
              "  41,\n",
              "  42,\n",
              "  47,\n",
              "  52,\n",
              "  53,\n",
              "  62,\n",
              "  79,\n",
              "  110,\n",
              "  111,\n",
              "  127,\n",
              "  143,\n",
              "  145,\n",
              "  146,\n",
              "  152,\n",
              "  165,\n",
              "  180,\n",
              "  202,\n",
              "  208,\n",
              "  214,\n",
              "  216,\n",
              "  217,\n",
              "  220,\n",
              "  227,\n",
              "  234,\n",
              "  257,\n",
              "  263,\n",
              "  266,\n",
              "  274,\n",
              "  276,\n",
              "  279,\n",
              "  287,\n",
              "  292,\n",
              "  304,\n",
              "  309,\n",
              "  312,\n",
              "  313,\n",
              "  316,\n",
              "  322,\n",
              "  323,\n",
              "  332,\n",
              "  352,\n",
              "  360,\n",
              "  366,\n",
              "  367,\n",
              "  368,\n",
              "  372,\n",
              "  380,\n",
              "  386,\n",
              "  390,\n",
              "  392,\n",
              "  400,\n",
              "  422,\n",
              "  428,\n",
              "  430,\n",
              "  448,\n",
              "  451,\n",
              "  453,\n",
              "  460,\n",
              "  491,\n",
              "  494,\n",
              "  498,\n",
              "  506,\n",
              "  510,\n",
              "  544,\n",
              "  545,\n",
              "  556,\n",
              "  558,\n",
              "  559,\n",
              "  563,\n",
              "  564,\n",
              "  567,\n",
              "  572,\n",
              "  573,\n",
              "  576,\n",
              "  586,\n",
              "  596,\n",
              "  615,\n",
              "  622,\n",
              "  643,\n",
              "  646],\n",
              " 6: [1,\n",
              "  3,\n",
              "  6,\n",
              "  10,\n",
              "  34,\n",
              "  56,\n",
              "  64,\n",
              "  76,\n",
              "  90,\n",
              "  92,\n",
              "  118,\n",
              "  131,\n",
              "  138,\n",
              "  169,\n",
              "  177,\n",
              "  201,\n",
              "  211,\n",
              "  221,\n",
              "  224,\n",
              "  225,\n",
              "  238,\n",
              "  243,\n",
              "  284,\n",
              "  295,\n",
              "  311,\n",
              "  331,\n",
              "  337,\n",
              "  338,\n",
              "  349,\n",
              "  359,\n",
              "  363,\n",
              "  375,\n",
              "  391,\n",
              "  396,\n",
              "  401,\n",
              "  411,\n",
              "  412,\n",
              "  413,\n",
              "  414,\n",
              "  421,\n",
              "  427,\n",
              "  439,\n",
              "  444,\n",
              "  450,\n",
              "  458,\n",
              "  470,\n",
              "  479,\n",
              "  492,\n",
              "  496,\n",
              "  512,\n",
              "  524,\n",
              "  527,\n",
              "  531,\n",
              "  533,\n",
              "  536,\n",
              "  546,\n",
              "  589,\n",
              "  591,\n",
              "  599,\n",
              "  607,\n",
              "  608,\n",
              "  609,\n",
              "  612,\n",
              "  613,\n",
              "  644],\n",
              " 7: [11,\n",
              "  15,\n",
              "  22,\n",
              "  26,\n",
              "  36,\n",
              "  54,\n",
              "  68,\n",
              "  74,\n",
              "  82,\n",
              "  97,\n",
              "  100,\n",
              "  104,\n",
              "  109,\n",
              "  115,\n",
              "  128,\n",
              "  148,\n",
              "  158,\n",
              "  163,\n",
              "  181,\n",
              "  199,\n",
              "  210,\n",
              "  215,\n",
              "  231,\n",
              "  239,\n",
              "  248,\n",
              "  255,\n",
              "  268,\n",
              "  275,\n",
              "  291,\n",
              "  293,\n",
              "  294,\n",
              "  302,\n",
              "  320,\n",
              "  329,\n",
              "  335,\n",
              "  341,\n",
              "  342,\n",
              "  346,\n",
              "  348,\n",
              "  353,\n",
              "  356,\n",
              "  364,\n",
              "  395,\n",
              "  409,\n",
              "  418,\n",
              "  419,\n",
              "  424,\n",
              "  443,\n",
              "  445,\n",
              "  447,\n",
              "  454,\n",
              "  459,\n",
              "  468,\n",
              "  469,\n",
              "  481,\n",
              "  482,\n",
              "  483,\n",
              "  504,\n",
              "  509,\n",
              "  517,\n",
              "  542,\n",
              "  549,\n",
              "  566,\n",
              "  580,\n",
              "  584,\n",
              "  592,\n",
              "  593,\n",
              "  603,\n",
              "  618,\n",
              "  647,\n",
              "  649],\n",
              " 8: [24,\n",
              "  48,\n",
              "  51,\n",
              "  55,\n",
              "  61,\n",
              "  71,\n",
              "  77,\n",
              "  80,\n",
              "  91,\n",
              "  95,\n",
              "  102,\n",
              "  108,\n",
              "  126,\n",
              "  142,\n",
              "  144,\n",
              "  151,\n",
              "  164,\n",
              "  167,\n",
              "  168,\n",
              "  171,\n",
              "  172,\n",
              "  194,\n",
              "  204,\n",
              "  213,\n",
              "  230,\n",
              "  244,\n",
              "  283,\n",
              "  290,\n",
              "  321,\n",
              "  336,\n",
              "  371,\n",
              "  379,\n",
              "  384,\n",
              "  389,\n",
              "  406,\n",
              "  432,\n",
              "  434,\n",
              "  441,\n",
              "  456,\n",
              "  457,\n",
              "  515,\n",
              "  518,\n",
              "  526,\n",
              "  532,\n",
              "  560,\n",
              "  571,\n",
              "  575,\n",
              "  581,\n",
              "  587,\n",
              "  588,\n",
              "  629,\n",
              "  642],\n",
              " 9: [2,\n",
              "  14,\n",
              "  32,\n",
              "  35,\n",
              "  44,\n",
              "  59,\n",
              "  66,\n",
              "  67,\n",
              "  81,\n",
              "  88,\n",
              "  101,\n",
              "  114,\n",
              "  116,\n",
              "  124,\n",
              "  135,\n",
              "  139,\n",
              "  149,\n",
              "  159,\n",
              "  170,\n",
              "  198,\n",
              "  223,\n",
              "  232,\n",
              "  235,\n",
              "  236,\n",
              "  246,\n",
              "  253,\n",
              "  270,\n",
              "  271,\n",
              "  285,\n",
              "  286,\n",
              "  288,\n",
              "  296,\n",
              "  315,\n",
              "  318,\n",
              "  319,\n",
              "  324,\n",
              "  327,\n",
              "  330,\n",
              "  340,\n",
              "  365,\n",
              "  370,\n",
              "  382,\n",
              "  385,\n",
              "  403,\n",
              "  425,\n",
              "  429,\n",
              "  438,\n",
              "  446,\n",
              "  449,\n",
              "  461,\n",
              "  464,\n",
              "  475,\n",
              "  480,\n",
              "  488,\n",
              "  493,\n",
              "  499,\n",
              "  507,\n",
              "  508,\n",
              "  534,\n",
              "  537,\n",
              "  539,\n",
              "  541,\n",
              "  547,\n",
              "  553,\n",
              "  557,\n",
              "  568,\n",
              "  574,\n",
              "  577,\n",
              "  579,\n",
              "  594,\n",
              "  602,\n",
              "  605,\n",
              "  616,\n",
              "  620,\n",
              "  625,\n",
              "  626,\n",
              "  630,\n",
              "  631,\n",
              "  634,\n",
              "  635,\n",
              "  638,\n",
              "  639,\n",
              "  640,\n",
              "  641,\n",
              "  645]}"
            ]
          },
          "metadata": {
            "tags": []
          },
          "execution_count": 22
        }
      ]
    },
    {
      "cell_type": "markdown",
      "metadata": {
        "id": "Oq6IwsRc-e_u",
        "colab_type": "text"
      },
      "source": [
        "Labelling 20% points in each cluster"
      ]
    },
    {
      "cell_type": "markdown",
      "metadata": {
        "id": "CHhwzHIn-jhR",
        "colab_type": "text"
      },
      "source": [
        "Cluster 0"
      ]
    },
    {
      "cell_type": "code",
      "metadata": {
        "id": "QlOo7pOtIa_-",
        "colab_type": "code",
        "colab": {
          "base_uri": "https://localhost:8080/",
          "height": 34
        },
        "outputId": "7d52bd65-4e78-47d6-ec8f-7b7f0fe33ec4"
      },
      "source": [
        "np.shape(dict[0])"
      ],
      "execution_count": null,
      "outputs": [
        {
          "output_type": "execute_result",
          "data": {
            "text/plain": [
              "(61,)"
            ]
          },
          "metadata": {
            "tags": []
          },
          "execution_count": 22
        }
      ]
    },
    {
      "cell_type": "markdown",
      "metadata": {
        "id": "eFqBPk5o-2GD",
        "colab_type": "text"
      },
      "source": [
        "There are 81 data points in cluster 0. 20% points would be 16."
      ]
    },
    {
      "cell_type": "code",
      "metadata": {
        "id": "XUh3jGhxAYlP",
        "colab_type": "code",
        "colab": {}
      },
      "source": [
        "import random \n",
        "\n",
        "list=dict[0].copy()\n"
      ],
      "execution_count": null,
      "outputs": []
    },
    {
      "cell_type": "code",
      "metadata": {
        "id": "716Nx-rzJtwE",
        "colab_type": "code",
        "colab": {
          "base_uri": "https://localhost:8080/",
          "height": 34
        },
        "outputId": "b797bc03-ac37-4af9-c48f-ae159db62842"
      },
      "source": [
        "list"
      ],
      "execution_count": null,
      "outputs": [
        {
          "output_type": "execute_result",
          "data": {
            "text/plain": [
              "list"
            ]
          },
          "metadata": {
            "tags": []
          },
          "execution_count": 23
        }
      ]
    },
    {
      "cell_type": "code",
      "metadata": {
        "id": "ntLqVhF0Be7A",
        "colab_type": "code",
        "colab": {}
      },
      "source": [
        "y_label=np.zeros(650)"
      ],
      "execution_count": null,
      "outputs": []
    },
    {
      "cell_type": "code",
      "metadata": {
        "id": "8yf3AjRV-mcn",
        "colab_type": "code",
        "colab": {}
      },
      "source": [
        "for i in range(16):\n",
        "  random_num = random.choice(list)\n",
        "  y_label[random_num]=y_cluster[random_num]\n",
        "  list.remove(random_num)\n",
        "\n",
        "\n",
        "\n"
      ],
      "execution_count": null,
      "outputs": []
    },
    {
      "cell_type": "code",
      "metadata": {
        "id": "6-g-SGMBI0VI",
        "colab_type": "code",
        "colab": {
          "base_uri": "https://localhost:8080/",
          "height": 34
        },
        "outputId": "ca50b52d-71d4-4795-b5ab-1b7af2b97b43"
      },
      "source": [
        "np.shape(dict[0])"
      ],
      "execution_count": null,
      "outputs": [
        {
          "output_type": "execute_result",
          "data": {
            "text/plain": [
              "(81,)"
            ]
          },
          "metadata": {
            "tags": []
          },
          "execution_count": 50
        }
      ]
    },
    {
      "cell_type": "code",
      "metadata": {
        "id": "j6QmXaw4ByIE",
        "colab_type": "code",
        "colab": {
          "base_uri": "https://localhost:8080/",
          "height": 682
        },
        "outputId": "9c1ab41d-1be2-42cf-e4dc-4fc18dbafe9c"
      },
      "source": [
        "y_label"
      ],
      "execution_count": null,
      "outputs": [
        {
          "output_type": "execute_result",
          "data": {
            "text/plain": [
              "array([0., 0., 0., 7., 0., 0., 0., 0., 7., 0., 0., 0., 0., 0., 0., 0., 0.,\n",
              "       0., 0., 0., 0., 0., 0., 0., 0., 0., 0., 0., 0., 0., 0., 0., 0., 0.,\n",
              "       0., 0., 0., 0., 0., 0., 0., 0., 0., 0., 0., 0., 0., 0., 0., 0., 0.,\n",
              "       0., 0., 0., 0., 0., 0., 0., 0., 0., 0., 0., 0., 0., 0., 0., 0., 0.,\n",
              "       0., 0., 0., 0., 0., 0., 0., 0., 0., 0., 0., 0., 0., 0., 0., 0., 0.,\n",
              "       0., 0., 0., 0., 0., 0., 0., 0., 0., 0., 0., 0., 0., 0., 0., 0., 0.,\n",
              "       0., 0., 0., 0., 0., 0., 0., 0., 0., 0., 0., 0., 0., 0., 0., 0., 0.,\n",
              "       0., 0., 0., 0., 0., 0., 0., 0., 0., 0., 0., 0., 0., 0., 0., 7., 0.,\n",
              "       0., 0., 0., 0., 7., 0., 0., 0., 0., 0., 0., 0., 0., 0., 0., 0., 0.,\n",
              "       0., 0., 0., 0., 0., 0., 0., 0., 0., 0., 0., 0., 0., 0., 0., 0., 0.,\n",
              "       0., 0., 0., 0., 0., 0., 0., 0., 0., 0., 0., 0., 0., 0., 0., 0., 0.,\n",
              "       0., 0., 0., 0., 0., 0., 0., 0., 0., 0., 7., 0., 0., 0., 0., 0., 0.,\n",
              "       0., 0., 0., 0., 0., 0., 0., 0., 0., 0., 0., 0., 0., 0., 0., 0., 0.,\n",
              "       0., 0., 7., 0., 0., 0., 0., 0., 0., 7., 0., 0., 0., 7., 7., 0., 0.,\n",
              "       0., 0., 0., 0., 0., 0., 0., 0., 0., 0., 0., 0., 0., 0., 0., 0., 0.,\n",
              "       0., 0., 0., 0., 0., 0., 0., 0., 0., 7., 0., 0., 0., 0., 0., 0., 0.,\n",
              "       0., 0., 0., 0., 0., 0., 0., 0., 0., 0., 0., 0., 0., 2., 0., 0., 0.,\n",
              "       0., 0., 7., 0., 0., 0., 0., 0., 0., 0., 0., 0., 0., 0., 0., 0., 0.,\n",
              "       0., 0., 0., 0., 0., 0., 0., 0., 0., 0., 0., 7., 0., 0., 0., 0., 0.,\n",
              "       0., 0., 0., 0., 0., 0., 0., 0., 0., 0., 0., 7., 0., 0., 0., 0., 0.,\n",
              "       0., 0., 0., 0., 0., 0., 0., 0., 0., 0., 0., 0., 0., 0., 0., 0., 0.,\n",
              "       0., 7., 0., 0., 0., 0., 0., 0., 0., 0., 0., 0., 0., 0., 0., 0., 0.,\n",
              "       0., 0., 0., 0., 0., 0., 0., 0., 0., 0., 0., 0., 0., 0., 0., 0., 0.,\n",
              "       0., 0., 0., 0., 0., 0., 0., 0., 0., 0., 0., 0., 0., 0., 0., 0., 0.,\n",
              "       0., 0., 0., 0., 0., 0., 0., 0., 0., 0., 0., 0., 0., 0., 0., 0., 0.,\n",
              "       0., 0., 0., 0., 0., 0., 0., 0., 0., 0., 0., 0., 0., 0., 0., 0., 0.,\n",
              "       0., 0., 0., 0., 0., 0., 0., 0., 0., 0., 0., 0., 0., 0., 0., 0., 0.,\n",
              "       0., 0., 0., 0., 0., 0., 0., 0., 0., 0., 0., 0., 0., 0., 0., 0., 0.,\n",
              "       0., 0., 0., 0., 0., 0., 0., 0., 0., 0., 0., 0., 0., 0., 0., 0., 0.,\n",
              "       0., 0., 0., 0., 0., 0., 0., 0., 0., 0., 0., 0., 0., 0., 0., 0., 0.,\n",
              "       0., 0., 0., 0., 0., 0., 0., 0., 0., 0., 0., 0., 0., 0., 0., 0., 0.,\n",
              "       0., 0., 0., 0., 0., 0., 0., 0., 0., 0., 0., 0., 0., 0., 0., 0., 0.,\n",
              "       0., 0., 0., 0., 0., 0., 0., 0., 0., 0., 0., 0., 0., 0., 0., 0., 0.,\n",
              "       0., 0., 0., 0., 0., 0., 0., 0., 0., 0., 0., 0., 0., 0., 0., 0., 0.,\n",
              "       0., 0., 0., 0., 0., 0., 0., 0., 0., 0., 0., 0., 0., 0., 0., 0., 0.,\n",
              "       0., 0., 0., 0., 0., 0., 0., 0., 0., 0., 0., 0., 0., 0., 0., 0., 0.,\n",
              "       0., 0., 0., 0., 0., 0., 0., 0., 0., 0., 0., 0., 0., 0., 0., 0., 0.,\n",
              "       0., 0., 0., 0., 0., 0., 0., 0., 0., 0., 0., 0., 0., 0., 7., 0., 0.,\n",
              "       0., 0., 0., 0.])"
            ]
          },
          "metadata": {
            "tags": []
          },
          "execution_count": 51
        }
      ]
    },
    {
      "cell_type": "code",
      "metadata": {
        "id": "vuhA0ZltBy6V",
        "colab_type": "code",
        "colab": {
          "base_uri": "https://localhost:8080/",
          "height": 34
        },
        "outputId": "81da1acf-2513-4819-904a-459972666a97"
      },
      "source": [
        "np.unique(y_label, return_counts=True)\n"
      ],
      "execution_count": null,
      "outputs": [
        {
          "output_type": "execute_result",
          "data": {
            "text/plain": [
              "(array([0., 2., 7.]), array([634,   1,  15]))"
            ]
          },
          "metadata": {
            "tags": []
          },
          "execution_count": 52
        }
      ]
    },
    {
      "cell_type": "markdown",
      "metadata": {
        "id": "74k0Fv8NF4F7",
        "colab_type": "text"
      },
      "source": [
        "Belongs to 7. Labeling all points of cluster as 7."
      ]
    },
    {
      "cell_type": "code",
      "metadata": {
        "id": "mu-Muhu1F23w",
        "colab_type": "code",
        "colab": {}
      },
      "source": [
        "for i in dict[0]:\n",
        "  y_label[i]=7\n"
      ],
      "execution_count": null,
      "outputs": []
    },
    {
      "cell_type": "code",
      "metadata": {
        "id": "XnBbTHSuC5Z_",
        "colab_type": "code",
        "colab": {
          "base_uri": "https://localhost:8080/",
          "height": 34
        },
        "outputId": "d6e226e6-3647-4832-8f12-b8314da8a0e8"
      },
      "source": [
        "np.unique(y_label, return_counts=True)\n"
      ],
      "execution_count": null,
      "outputs": [
        {
          "output_type": "execute_result",
          "data": {
            "text/plain": [
              "(array([0., 7.]), array([569,  81]))"
            ]
          },
          "metadata": {
            "tags": []
          },
          "execution_count": 54
        }
      ]
    },
    {
      "cell_type": "code",
      "metadata": {
        "id": "ZtcblasZIKtl",
        "colab_type": "code",
        "colab": {}
      },
      "source": [
        ""
      ],
      "execution_count": null,
      "outputs": []
    },
    {
      "cell_type": "markdown",
      "metadata": {
        "id": "0eCnbpJ2KMOG",
        "colab_type": "text"
      },
      "source": [
        "Cluster 1"
      ]
    },
    {
      "cell_type": "code",
      "metadata": {
        "id": "_rcqx2XIKNxv",
        "colab_type": "code",
        "colab": {
          "base_uri": "https://localhost:8080/",
          "height": 34
        },
        "outputId": "59a071b1-6a2e-458b-f3fb-13a8d4f35170"
      },
      "source": [
        "np.shape(dict[1])"
      ],
      "execution_count": null,
      "outputs": [
        {
          "output_type": "execute_result",
          "data": {
            "text/plain": [
              "(54,)"
            ]
          },
          "metadata": {
            "tags": []
          },
          "execution_count": 55
        }
      ]
    },
    {
      "cell_type": "markdown",
      "metadata": {
        "id": "zHbM3birLdeU",
        "colab_type": "text"
      },
      "source": [
        "20% ponts of this cluster would be 11 points"
      ]
    },
    {
      "cell_type": "code",
      "metadata": {
        "id": "T8eQ4zO4KPbQ",
        "colab_type": "code",
        "colab": {}
      },
      "source": [
        "import random \n",
        "\n",
        "list=dict[1].copy()\n"
      ],
      "execution_count": null,
      "outputs": []
    },
    {
      "cell_type": "code",
      "metadata": {
        "id": "FPpz8osSKTW-",
        "colab_type": "code",
        "colab": {
          "base_uri": "https://localhost:8080/",
          "height": 34
        },
        "outputId": "0f0c85d9-3a01-46ab-89a0-ffceea545628"
      },
      "source": [
        "np.shape(list)"
      ],
      "execution_count": null,
      "outputs": [
        {
          "output_type": "execute_result",
          "data": {
            "text/plain": [
              "(54,)"
            ]
          },
          "metadata": {
            "tags": []
          },
          "execution_count": 57
        }
      ]
    },
    {
      "cell_type": "code",
      "metadata": {
        "id": "SCzUxvaAKyxD",
        "colab_type": "code",
        "colab": {}
      },
      "source": [
        "temp=np.zeros(650)"
      ],
      "execution_count": null,
      "outputs": []
    },
    {
      "cell_type": "code",
      "metadata": {
        "id": "-4aLPE7VKUHf",
        "colab_type": "code",
        "colab": {}
      },
      "source": [
        "for i in range(11):\n",
        "  random_num = random.choice(list)\n",
        "  temp[random_num]=y_cluster[random_num]\n",
        "  list.remove(random_num)\n",
        "\n"
      ],
      "execution_count": null,
      "outputs": []
    },
    {
      "cell_type": "code",
      "metadata": {
        "id": "SnBVF78QK4SO",
        "colab_type": "code",
        "colab": {
          "base_uri": "https://localhost:8080/",
          "height": 34
        },
        "outputId": "da5cb312-b44e-48b9-d23d-9a57bc143880"
      },
      "source": [
        "np.unique(temp, return_counts=True)\n"
      ],
      "execution_count": null,
      "outputs": [
        {
          "output_type": "execute_result",
          "data": {
            "text/plain": [
              "(array([0., 6.]), array([639,  11]))"
            ]
          },
          "metadata": {
            "tags": []
          },
          "execution_count": 60
        }
      ]
    },
    {
      "cell_type": "markdown",
      "metadata": {
        "id": "jnoKmBOfK-wp",
        "colab_type": "text"
      },
      "source": [
        "Belongs to 6. Labeling all points of cluster 1 as 6.\n",
        "\n",
        "\n"
      ]
    },
    {
      "cell_type": "code",
      "metadata": {
        "id": "2yrrckfCLFAi",
        "colab_type": "code",
        "colab": {}
      },
      "source": [
        "for i in dict[1]:\n",
        "  y_label[i]=6"
      ],
      "execution_count": null,
      "outputs": []
    },
    {
      "cell_type": "code",
      "metadata": {
        "id": "tK621FLkLQrx",
        "colab_type": "code",
        "colab": {
          "base_uri": "https://localhost:8080/",
          "height": 34
        },
        "outputId": "8648e58c-ac9f-4070-9e7d-b6d6df03109f"
      },
      "source": [
        "np.unique(y_label, return_counts=True)\n"
      ],
      "execution_count": null,
      "outputs": [
        {
          "output_type": "execute_result",
          "data": {
            "text/plain": [
              "(array([0., 6., 7.]), array([515,  54,  81]))"
            ]
          },
          "metadata": {
            "tags": []
          },
          "execution_count": 62
        }
      ]
    },
    {
      "cell_type": "code",
      "metadata": {
        "id": "_8FDefx8LTk-",
        "colab_type": "code",
        "colab": {}
      },
      "source": [
        ""
      ],
      "execution_count": null,
      "outputs": []
    },
    {
      "cell_type": "markdown",
      "metadata": {
        "id": "k8oQkQKULWgE",
        "colab_type": "text"
      },
      "source": [
        "Cluster 2"
      ]
    },
    {
      "cell_type": "code",
      "metadata": {
        "id": "s8dLtUMyLXbU",
        "colab_type": "code",
        "colab": {
          "base_uri": "https://localhost:8080/",
          "height": 34
        },
        "outputId": "d6cc56d6-3ae5-495c-ac25-5d023234dfcc"
      },
      "source": [
        "np.shape(dict[2])"
      ],
      "execution_count": null,
      "outputs": [
        {
          "output_type": "execute_result",
          "data": {
            "text/plain": [
              "(73,)"
            ]
          },
          "metadata": {
            "tags": []
          },
          "execution_count": 90
        }
      ]
    },
    {
      "cell_type": "markdown",
      "metadata": {
        "id": "0pyCtOPoLiXT",
        "colab_type": "text"
      },
      "source": [
        "20% ponts of this cluster would be *15* points"
      ]
    },
    {
      "cell_type": "code",
      "metadata": {
        "id": "SOFuxeCKLcH3",
        "colab_type": "code",
        "colab": {}
      },
      "source": [
        "import random \n",
        "\n",
        "list=dict[2].copy()\n"
      ],
      "execution_count": null,
      "outputs": []
    },
    {
      "cell_type": "code",
      "metadata": {
        "id": "WKujtmuaLwjA",
        "colab_type": "code",
        "colab": {
          "base_uri": "https://localhost:8080/",
          "height": 34
        },
        "outputId": "bf757601-903a-4048-ca49-691b0e30304c"
      },
      "source": [
        "np.shape(list)"
      ],
      "execution_count": null,
      "outputs": [
        {
          "output_type": "execute_result",
          "data": {
            "text/plain": [
              "(73,)"
            ]
          },
          "metadata": {
            "tags": []
          },
          "execution_count": 92
        }
      ]
    },
    {
      "cell_type": "code",
      "metadata": {
        "id": "4emCS9XAj5yK",
        "colab_type": "code",
        "colab": {}
      },
      "source": [
        "list=dict[2].copy()"
      ],
      "execution_count": null,
      "outputs": []
    },
    {
      "cell_type": "code",
      "metadata": {
        "id": "IP_Mx55bLxAE",
        "colab_type": "code",
        "colab": {}
      },
      "source": [
        "temp=np.zeros(650)"
      ],
      "execution_count": null,
      "outputs": []
    },
    {
      "cell_type": "code",
      "metadata": {
        "id": "wofm-VU9L1Un",
        "colab_type": "code",
        "colab": {}
      },
      "source": [
        "for i in range(15):\n",
        "  random_num = random.choice(list)\n",
        "  temp[random_num]=y_cluster[random_num]\n",
        "  list.remove(random_num)"
      ],
      "execution_count": null,
      "outputs": []
    },
    {
      "cell_type": "code",
      "metadata": {
        "id": "fbT6lY4oL-uS",
        "colab_type": "code",
        "colab": {
          "base_uri": "https://localhost:8080/",
          "height": 34
        },
        "outputId": "d5c2a499-8ab0-4164-a0b5-00116b018c6c"
      },
      "source": [
        "np.unique(temp, return_counts=True)\n"
      ],
      "execution_count": null,
      "outputs": [
        {
          "output_type": "execute_result",
          "data": {
            "text/plain": [
              "(array([0., 5., 8.]), array([635,   9,   6]))"
            ]
          },
          "metadata": {
            "tags": []
          },
          "execution_count": 222
        }
      ]
    },
    {
      "cell_type": "markdown",
      "metadata": {
        "id": "oTRTpvHwMIjm",
        "colab_type": "text"
      },
      "source": [
        "Belongs to 8. Labeling all points of cluster 2 as 8.\n",
        "\n",
        "\n"
      ]
    },
    {
      "cell_type": "code",
      "metadata": {
        "id": "_UsrdyifMBHH",
        "colab_type": "code",
        "colab": {}
      },
      "source": [
        "for i in dict[2]:\n",
        "  y_label[i]=8"
      ],
      "execution_count": null,
      "outputs": []
    },
    {
      "cell_type": "code",
      "metadata": {
        "id": "7Gv5w_APMcaA",
        "colab_type": "code",
        "colab": {
          "base_uri": "https://localhost:8080/",
          "height": 34
        },
        "outputId": "2b7235f4-5957-4e7b-eca0-d8f0cd9cbd26"
      },
      "source": [
        "np.unique(y_label, return_counts=True)\n"
      ],
      "execution_count": null,
      "outputs": [
        {
          "output_type": "execute_result",
          "data": {
            "text/plain": [
              "(array([0., 6., 7., 8.]), array([442,  54,  81,  73]))"
            ]
          },
          "metadata": {
            "tags": []
          },
          "execution_count": 229
        }
      ]
    },
    {
      "cell_type": "code",
      "metadata": {
        "id": "iV0ilAf7MfVF",
        "colab_type": "code",
        "colab": {}
      },
      "source": [
        ""
      ],
      "execution_count": null,
      "outputs": []
    },
    {
      "cell_type": "markdown",
      "metadata": {
        "id": "UV4eaO0ZMk3V",
        "colab_type": "text"
      },
      "source": [
        "Cluster 3"
      ]
    },
    {
      "cell_type": "code",
      "metadata": {
        "id": "c3p0pGxqMm0x",
        "colab_type": "code",
        "colab": {
          "base_uri": "https://localhost:8080/",
          "height": 34
        },
        "outputId": "400250a6-ed74-49f5-b412-2dc21cc52cb3"
      },
      "source": [
        "np.shape(dict[3])"
      ],
      "execution_count": null,
      "outputs": [
        {
          "output_type": "execute_result",
          "data": {
            "text/plain": [
              "(33,)"
            ]
          },
          "metadata": {
            "tags": []
          },
          "execution_count": 71
        }
      ]
    },
    {
      "cell_type": "markdown",
      "metadata": {
        "id": "H4dteivtcOUl",
        "colab_type": "text"
      },
      "source": [
        "20% ponts of this cluster would be 7\n"
      ]
    },
    {
      "cell_type": "code",
      "metadata": {
        "id": "YfeimBtwcKpH",
        "colab_type": "code",
        "colab": {}
      },
      "source": [
        "list=dict[3].copy()"
      ],
      "execution_count": null,
      "outputs": []
    },
    {
      "cell_type": "code",
      "metadata": {
        "id": "zcXSX3tEcWDB",
        "colab_type": "code",
        "colab": {
          "base_uri": "https://localhost:8080/",
          "height": 34
        },
        "outputId": "75dbb7e0-939b-4a3a-e71f-09cb6fec60b2"
      },
      "source": [
        "np.shape(list)"
      ],
      "execution_count": null,
      "outputs": [
        {
          "output_type": "execute_result",
          "data": {
            "text/plain": [
              "(33,)"
            ]
          },
          "metadata": {
            "tags": []
          },
          "execution_count": 224
        }
      ]
    },
    {
      "cell_type": "code",
      "metadata": {
        "id": "mrq6zROqcZD0",
        "colab_type": "code",
        "colab": {}
      },
      "source": [
        "temp=np.zeros(650)"
      ],
      "execution_count": null,
      "outputs": []
    },
    {
      "cell_type": "code",
      "metadata": {
        "id": "TXyzFwpScbz9",
        "colab_type": "code",
        "colab": {}
      },
      "source": [
        "for i in range(7):\n",
        "  random_num = random.choice(list)\n",
        "  temp[random_num]=y_cluster[random_num]\n",
        "  list.remove(random_num)"
      ],
      "execution_count": null,
      "outputs": []
    },
    {
      "cell_type": "code",
      "metadata": {
        "id": "ih_B_a7Fcfe4",
        "colab_type": "code",
        "colab": {
          "base_uri": "https://localhost:8080/",
          "height": 34
        },
        "outputId": "af24954c-7ddf-424e-ed77-f048a37c8677"
      },
      "source": [
        "np.unique(temp, return_counts=True)\n"
      ],
      "execution_count": null,
      "outputs": [
        {
          "output_type": "execute_result",
          "data": {
            "text/plain": [
              "(array([0., 5., 7., 8.]), array([643,   4,   2,   1]))"
            ]
          },
          "metadata": {
            "tags": []
          },
          "execution_count": 227
        }
      ]
    },
    {
      "cell_type": "markdown",
      "metadata": {
        "id": "sGGXgBBvdXeg",
        "colab_type": "text"
      },
      "source": [
        "Belongs to 5 "
      ]
    },
    {
      "cell_type": "code",
      "metadata": {
        "id": "3Ut0IRKXchbK",
        "colab_type": "code",
        "colab": {}
      },
      "source": [
        "for i in dict[3]:\n",
        "  y_label[i]=5"
      ],
      "execution_count": null,
      "outputs": []
    },
    {
      "cell_type": "code",
      "metadata": {
        "id": "G9wbz4smdeYQ",
        "colab_type": "code",
        "colab": {
          "base_uri": "https://localhost:8080/",
          "height": 34
        },
        "outputId": "81e01384-ac78-4240-c978-fc81244cab04"
      },
      "source": [
        "np.unique(y_label, return_counts=True)\n"
      ],
      "execution_count": null,
      "outputs": [
        {
          "output_type": "execute_result",
          "data": {
            "text/plain": [
              "(array([0., 5., 6., 7., 8.]), array([409,  33,  54,  81,  73]))"
            ]
          },
          "metadata": {
            "tags": []
          },
          "execution_count": 231
        }
      ]
    },
    {
      "cell_type": "code",
      "metadata": {
        "id": "TxtR2Pu7deeK",
        "colab_type": "code",
        "colab": {}
      },
      "source": [
        ""
      ],
      "execution_count": null,
      "outputs": []
    },
    {
      "cell_type": "markdown",
      "metadata": {
        "id": "PFJzL41nde0A",
        "colab_type": "text"
      },
      "source": [
        "Cluster 4"
      ]
    },
    {
      "cell_type": "code",
      "metadata": {
        "id": "7w9qcPrHdedK",
        "colab_type": "code",
        "colab": {
          "base_uri": "https://localhost:8080/",
          "height": 34
        },
        "outputId": "dfe82542-25a8-4e89-c851-6a5af898f24c"
      },
      "source": [
        "np.shape(dict[4])"
      ],
      "execution_count": null,
      "outputs": [
        {
          "output_type": "execute_result",
          "data": {
            "text/plain": [
              "(63,)"
            ]
          },
          "metadata": {
            "tags": []
          },
          "execution_count": 104
        }
      ]
    },
    {
      "cell_type": "markdown",
      "metadata": {
        "id": "u_TWoo9CdqK_",
        "colab_type": "text"
      },
      "source": [
        "20% ponts of this cluster would be 13\n"
      ]
    },
    {
      "cell_type": "code",
      "metadata": {
        "id": "fgRhXaYod272",
        "colab_type": "code",
        "colab": {}
      },
      "source": [
        "list=dict[4].copy()"
      ],
      "execution_count": null,
      "outputs": []
    },
    {
      "cell_type": "code",
      "metadata": {
        "id": "jqbKWPzndeXK",
        "colab_type": "code",
        "colab": {}
      },
      "source": [
        "temp=np.zeros(650)"
      ],
      "execution_count": null,
      "outputs": []
    },
    {
      "cell_type": "code",
      "metadata": {
        "id": "-1B_VEXndwgg",
        "colab_type": "code",
        "colab": {}
      },
      "source": [
        "for i in range(13):\n",
        "  random_num = random.choice(list)\n",
        "  temp[random_num]=y_cluster[random_num]\n",
        "  list.remove(random_num)"
      ],
      "execution_count": null,
      "outputs": []
    },
    {
      "cell_type": "code",
      "metadata": {
        "id": "WCtgUF2Vd9Oh",
        "colab_type": "code",
        "colab": {
          "base_uri": "https://localhost:8080/",
          "height": 34
        },
        "outputId": "429e7f65-f127-455e-f3c1-77d32a1c6f2b"
      },
      "source": [
        "np.unique(temp, return_counts=True)\n"
      ],
      "execution_count": null,
      "outputs": [
        {
          "output_type": "execute_result",
          "data": {
            "text/plain": [
              "(array([0., 4.]), array([637,  13]))"
            ]
          },
          "metadata": {
            "tags": []
          },
          "execution_count": 108
        }
      ]
    },
    {
      "cell_type": "markdown",
      "metadata": {
        "id": "t7td1YqTeAWI",
        "colab_type": "text"
      },
      "source": [
        "Belongs to 4"
      ]
    },
    {
      "cell_type": "code",
      "metadata": {
        "id": "ysgsG3r_d9nz",
        "colab_type": "code",
        "colab": {}
      },
      "source": [
        "for i in dict[4]:\n",
        "  y_label[i]=4"
      ],
      "execution_count": null,
      "outputs": []
    },
    {
      "cell_type": "code",
      "metadata": {
        "id": "_-jL9QWglQOb",
        "colab_type": "code",
        "colab": {
          "base_uri": "https://localhost:8080/",
          "height": 34
        },
        "outputId": "967c5171-ccda-439e-c5e7-7dd531da7dd2"
      },
      "source": [
        "np.unique(y_label, return_counts=True)\n"
      ],
      "execution_count": null,
      "outputs": [
        {
          "output_type": "execute_result",
          "data": {
            "text/plain": [
              "(array([0., 4., 5., 6., 7., 8.]), array([346,  63,  33,  54,  81,  73]))"
            ]
          },
          "metadata": {
            "tags": []
          },
          "execution_count": 233
        }
      ]
    },
    {
      "cell_type": "markdown",
      "metadata": {
        "id": "22VuzJFEePJV",
        "colab_type": "text"
      },
      "source": [
        "Cluster 5"
      ]
    },
    {
      "cell_type": "code",
      "metadata": {
        "id": "hly2nalVeP92",
        "colab_type": "code",
        "colab": {
          "base_uri": "https://localhost:8080/",
          "height": 34
        },
        "outputId": "33a9d865-88e0-46fb-e473-1cc1cf42bc93"
      },
      "source": [
        "np.shape(dict[5])"
      ],
      "execution_count": null,
      "outputs": [
        {
          "output_type": "execute_result",
          "data": {
            "text/plain": [
              "(104,)"
            ]
          },
          "metadata": {
            "tags": []
          },
          "execution_count": 109
        }
      ]
    },
    {
      "cell_type": "markdown",
      "metadata": {
        "id": "iTUEDm5reUTf",
        "colab_type": "text"
      },
      "source": [
        "20% ponts of this cluster would be 21\n"
      ]
    },
    {
      "cell_type": "code",
      "metadata": {
        "id": "U5f4CwGXeSLn",
        "colab_type": "code",
        "colab": {}
      },
      "source": [
        "list=dict[5].copy()"
      ],
      "execution_count": null,
      "outputs": []
    },
    {
      "cell_type": "code",
      "metadata": {
        "id": "0meMTTPUeaTS",
        "colab_type": "code",
        "colab": {}
      },
      "source": [
        "temp=np.zeros(650)"
      ],
      "execution_count": null,
      "outputs": []
    },
    {
      "cell_type": "code",
      "metadata": {
        "id": "hQ_349kdebv3",
        "colab_type": "code",
        "colab": {}
      },
      "source": [
        "for i in range(21):\n",
        "  random_num = random.choice(list)\n",
        "  temp[random_num]=y_cluster[random_num]\n",
        "  list.remove(random_num)"
      ],
      "execution_count": null,
      "outputs": []
    },
    {
      "cell_type": "code",
      "metadata": {
        "id": "VnZuLAruehjZ",
        "colab_type": "code",
        "colab": {
          "base_uri": "https://localhost:8080/",
          "height": 34
        },
        "outputId": "1a5b21e9-808a-4f44-89f1-97568da3f455"
      },
      "source": [
        "np.unique(temp, return_counts=True)\n"
      ],
      "execution_count": null,
      "outputs": [
        {
          "output_type": "execute_result",
          "data": {
            "text/plain": [
              "(array([0., 2., 3., 9.]), array([629,   2,  14,   5]))"
            ]
          },
          "metadata": {
            "tags": []
          },
          "execution_count": 113
        }
      ]
    },
    {
      "cell_type": "markdown",
      "metadata": {
        "id": "RGCDGLsZemKN",
        "colab_type": "text"
      },
      "source": [
        "Belongs to 3"
      ]
    },
    {
      "cell_type": "code",
      "metadata": {
        "id": "h7yzc5HRenMb",
        "colab_type": "code",
        "colab": {}
      },
      "source": [
        "for i in dict[5]:\n",
        "  y_label[i]=3"
      ],
      "execution_count": null,
      "outputs": []
    },
    {
      "cell_type": "code",
      "metadata": {
        "id": "ySI1fUkWeouJ",
        "colab_type": "code",
        "colab": {
          "base_uri": "https://localhost:8080/",
          "height": 51
        },
        "outputId": "627e8950-77df-4b1e-d7b9-7189c9b33599"
      },
      "source": [
        "np.unique(y_label, return_counts=True)\n"
      ],
      "execution_count": null,
      "outputs": [
        {
          "output_type": "execute_result",
          "data": {
            "text/plain": [
              "(array([0., 3., 4., 5., 6., 7., 8.]),\n",
              " array([242, 104,  63,  33,  54,  81,  73]))"
            ]
          },
          "metadata": {
            "tags": []
          },
          "execution_count": 235
        }
      ]
    },
    {
      "cell_type": "markdown",
      "metadata": {
        "id": "ZjZiNM5Leo_d",
        "colab_type": "text"
      },
      "source": [
        "Cluster 6"
      ]
    },
    {
      "cell_type": "code",
      "metadata": {
        "id": "WLV0oK0-eos_",
        "colab_type": "code",
        "colab": {
          "base_uri": "https://localhost:8080/",
          "height": 34
        },
        "outputId": "00f463c9-2cd4-4bcb-fa4f-0b9673de6ac8"
      },
      "source": [
        "np.shape(dict[6])"
      ],
      "execution_count": null,
      "outputs": [
        {
          "output_type": "execute_result",
          "data": {
            "text/plain": [
              "(76,)"
            ]
          },
          "metadata": {
            "tags": []
          },
          "execution_count": 114
        }
      ]
    },
    {
      "cell_type": "markdown",
      "metadata": {
        "id": "gO9N-tCFewD8",
        "colab_type": "text"
      },
      "source": [
        "20% ponts of this cluster would be 15\n"
      ]
    },
    {
      "cell_type": "code",
      "metadata": {
        "id": "8FtZFjjhetyq",
        "colab_type": "code",
        "colab": {}
      },
      "source": [
        "list=dict[6].copy()"
      ],
      "execution_count": null,
      "outputs": []
    },
    {
      "cell_type": "code",
      "metadata": {
        "id": "rUlKhDf9e2sG",
        "colab_type": "code",
        "colab": {}
      },
      "source": [
        "temp=np.zeros(650)"
      ],
      "execution_count": null,
      "outputs": []
    },
    {
      "cell_type": "code",
      "metadata": {
        "id": "DU85I5G9e4Vb",
        "colab_type": "code",
        "colab": {}
      },
      "source": [
        "for i in range(15):\n",
        "  random_num = random.choice(list)\n",
        "  temp[random_num]=y_cluster[random_num]\n",
        "  list.remove(random_num)"
      ],
      "execution_count": null,
      "outputs": []
    },
    {
      "cell_type": "code",
      "metadata": {
        "id": "gn1zkIeBe95o",
        "colab_type": "code",
        "colab": {
          "base_uri": "https://localhost:8080/",
          "height": 34
        },
        "outputId": "82944c01-642f-4272-c11d-bf8989c886b2"
      },
      "source": [
        "np.unique(temp, return_counts=True)\n"
      ],
      "execution_count": null,
      "outputs": [
        {
          "output_type": "execute_result",
          "data": {
            "text/plain": [
              "(array([0.]), array([650]))"
            ]
          },
          "metadata": {
            "tags": []
          },
          "execution_count": 123
        }
      ]
    },
    {
      "cell_type": "markdown",
      "metadata": {
        "id": "03ENE04FfIki",
        "colab_type": "text"
      },
      "source": [
        "Belongs to 0"
      ]
    },
    {
      "cell_type": "code",
      "metadata": {
        "id": "Kq31Td6FfJeL",
        "colab_type": "code",
        "colab": {}
      },
      "source": [
        "for i in dict[6]:\n",
        "  y_label[i]=0"
      ],
      "execution_count": null,
      "outputs": []
    },
    {
      "cell_type": "code",
      "metadata": {
        "id": "jjijBYjFlfpx",
        "colab_type": "code",
        "colab": {
          "base_uri": "https://localhost:8080/",
          "height": 51
        },
        "outputId": "a08298fe-b4cd-4809-8527-eb5a79460a8b"
      },
      "source": [
        "np.unique(y_label, return_counts=True)\n"
      ],
      "execution_count": null,
      "outputs": [
        {
          "output_type": "execute_result",
          "data": {
            "text/plain": [
              "(array([0., 3., 4., 5., 6., 7., 8.]),\n",
              " array([242, 104,  63,  33,  54,  81,  73]))"
            ]
          },
          "metadata": {
            "tags": []
          },
          "execution_count": 240
        }
      ]
    },
    {
      "cell_type": "markdown",
      "metadata": {
        "id": "xzSwOyaUfK4m",
        "colab_type": "text"
      },
      "source": [
        "Cluster 7"
      ]
    },
    {
      "cell_type": "code",
      "metadata": {
        "id": "Hr0fQFurfL0g",
        "colab_type": "code",
        "colab": {
          "base_uri": "https://localhost:8080/",
          "height": 34
        },
        "outputId": "7b1a0fbd-225f-473c-f772-aa52af3dfc28"
      },
      "source": [
        "np.shape(dict[7])"
      ],
      "execution_count": null,
      "outputs": [
        {
          "output_type": "execute_result",
          "data": {
            "text/plain": [
              "(60,)"
            ]
          },
          "metadata": {
            "tags": []
          },
          "execution_count": 124
        }
      ]
    },
    {
      "cell_type": "markdown",
      "metadata": {
        "id": "Lse0HI_HfQSj",
        "colab_type": "text"
      },
      "source": [
        "20% ponts of this cluster would be 12\n"
      ]
    },
    {
      "cell_type": "code",
      "metadata": {
        "id": "GvbcvXyLfOQp",
        "colab_type": "code",
        "colab": {}
      },
      "source": [
        "list=dict[7].copy()"
      ],
      "execution_count": null,
      "outputs": []
    },
    {
      "cell_type": "code",
      "metadata": {
        "id": "Hwsrrz6SfXdk",
        "colab_type": "code",
        "colab": {}
      },
      "source": [
        "temp=np.zeros(650)"
      ],
      "execution_count": null,
      "outputs": []
    },
    {
      "cell_type": "code",
      "metadata": {
        "id": "oJ68ETbNfY8-",
        "colab_type": "code",
        "colab": {}
      },
      "source": [
        "for i in range(12):\n",
        "  random_num = random.choice(list)\n",
        "  temp[random_num]=y_cluster[random_num]\n",
        "  list.remove(random_num)"
      ],
      "execution_count": null,
      "outputs": []
    },
    {
      "cell_type": "code",
      "metadata": {
        "id": "qq-390QQfcyx",
        "colab_type": "code",
        "colab": {
          "base_uri": "https://localhost:8080/",
          "height": 34
        },
        "outputId": "c036ffe6-7ece-4b4f-9c31-6a3e3afb6460"
      },
      "source": [
        "np.unique(temp, return_counts=True)\n"
      ],
      "execution_count": null,
      "outputs": [
        {
          "output_type": "execute_result",
          "data": {
            "text/plain": [
              "(array([0., 1., 2., 8.]), array([638,   3,   8,   1]))"
            ]
          },
          "metadata": {
            "tags": []
          },
          "execution_count": 128
        }
      ]
    },
    {
      "cell_type": "markdown",
      "metadata": {
        "id": "PdTlSQxSfhWV",
        "colab_type": "text"
      },
      "source": [
        "Belongs to 2"
      ]
    },
    {
      "cell_type": "code",
      "metadata": {
        "id": "9AeAhA_Eltdb",
        "colab_type": "code",
        "colab": {}
      },
      "source": [
        "for i in dict[7]:\n",
        "  y_label[i]=2"
      ],
      "execution_count": null,
      "outputs": []
    },
    {
      "cell_type": "code",
      "metadata": {
        "id": "w5XM23CAl7dm",
        "colab_type": "code",
        "colab": {
          "base_uri": "https://localhost:8080/",
          "height": 51
        },
        "outputId": "5bdca1bc-8051-4a67-8b78-d67a47f6aca3"
      },
      "source": [
        "np.unique(y_label, return_counts=True)\n"
      ],
      "execution_count": null,
      "outputs": [
        {
          "output_type": "execute_result",
          "data": {
            "text/plain": [
              "(array([0., 2., 3., 4., 5., 6., 7., 8.]),\n",
              " array([182,  60, 104,  63,  33,  54,  81,  73]))"
            ]
          },
          "metadata": {
            "tags": []
          },
          "execution_count": 242
        }
      ]
    },
    {
      "cell_type": "markdown",
      "metadata": {
        "id": "qARiuPQCfz3D",
        "colab_type": "text"
      },
      "source": [
        "Cluster 8"
      ]
    },
    {
      "cell_type": "code",
      "metadata": {
        "id": "Zlvv4lyVfekN",
        "colab_type": "code",
        "colab": {
          "base_uri": "https://localhost:8080/",
          "height": 34
        },
        "outputId": "1d5742d3-0d87-44fa-d6d4-cc0ed969cfc5"
      },
      "source": [
        "np.shape(dict[8])"
      ],
      "execution_count": null,
      "outputs": [
        {
          "output_type": "execute_result",
          "data": {
            "text/plain": [
              "(39,)"
            ]
          },
          "metadata": {
            "tags": []
          },
          "execution_count": 129
        }
      ]
    },
    {
      "cell_type": "markdown",
      "metadata": {
        "id": "soheP0A5f9tC",
        "colab_type": "text"
      },
      "source": [
        "20% ponts of this cluster would be 8\n"
      ]
    },
    {
      "cell_type": "code",
      "metadata": {
        "id": "bjl4_8Jmf5pY",
        "colab_type": "code",
        "colab": {}
      },
      "source": [
        "list=dict[8].copy()"
      ],
      "execution_count": null,
      "outputs": []
    },
    {
      "cell_type": "code",
      "metadata": {
        "id": "y7K0bAs6gDUK",
        "colab_type": "code",
        "colab": {}
      },
      "source": [
        "temp=np.zeros(650)"
      ],
      "execution_count": null,
      "outputs": []
    },
    {
      "cell_type": "code",
      "metadata": {
        "id": "q9DJoY3WgEtb",
        "colab_type": "code",
        "colab": {}
      },
      "source": [
        "for i in range(38):\n",
        "  random_num = random.choice(list)\n",
        "  temp[random_num]=y_cluster[random_num]\n",
        "  list.remove(random_num)"
      ],
      "execution_count": null,
      "outputs": []
    },
    {
      "cell_type": "code",
      "metadata": {
        "id": "_q9n9tBxgHy3",
        "colab_type": "code",
        "colab": {
          "base_uri": "https://localhost:8080/",
          "height": 34
        },
        "outputId": "65b099df-17cf-412c-a970-91c44381d119"
      },
      "source": [
        "np.unique(temp, return_counts=True)\n"
      ],
      "execution_count": null,
      "outputs": [
        {
          "output_type": "execute_result",
          "data": {
            "text/plain": [
              "(array([0., 1., 7., 9.]), array([612,  24,   4,  10]))"
            ]
          },
          "metadata": {
            "tags": []
          },
          "execution_count": 201
        }
      ]
    },
    {
      "cell_type": "markdown",
      "metadata": {
        "id": "nFdpGrN5gWLw",
        "colab_type": "text"
      },
      "source": [
        "Belongs to 9"
      ]
    },
    {
      "cell_type": "code",
      "metadata": {
        "id": "48ojNNEDgKNe",
        "colab_type": "code",
        "colab": {}
      },
      "source": [
        "for i in dict[8]:\n",
        "  y_label[i]=9"
      ],
      "execution_count": null,
      "outputs": []
    },
    {
      "cell_type": "code",
      "metadata": {
        "id": "YUpUHKL4mEjy",
        "colab_type": "code",
        "colab": {
          "base_uri": "https://localhost:8080/",
          "height": 51
        },
        "outputId": "a90ad876-35ec-457b-c120-2dc1ebd2c768"
      },
      "source": [
        "np.unique(y_label, return_counts=True)\n"
      ],
      "execution_count": null,
      "outputs": [
        {
          "output_type": "execute_result",
          "data": {
            "text/plain": [
              "(array([0., 2., 3., 4., 5., 6., 7., 8., 9.]),\n",
              " array([143,  60, 104,  63,  33,  54,  81,  73,  39]))"
            ]
          },
          "metadata": {
            "tags": []
          },
          "execution_count": 244
        }
      ]
    },
    {
      "cell_type": "markdown",
      "metadata": {
        "id": "nkucduLLgYl5",
        "colab_type": "text"
      },
      "source": [
        "Cluster 9"
      ]
    },
    {
      "cell_type": "code",
      "metadata": {
        "id": "6Ump-JxKgZtP",
        "colab_type": "code",
        "colab": {
          "base_uri": "https://localhost:8080/",
          "height": 34
        },
        "outputId": "dd66e90f-d3b6-4e9a-c4ee-50feb15a437f"
      },
      "source": [
        "np.shape(dict[9])"
      ],
      "execution_count": null,
      "outputs": [
        {
          "output_type": "execute_result",
          "data": {
            "text/plain": [
              "(67,)"
            ]
          },
          "metadata": {
            "tags": []
          },
          "execution_count": 142
        }
      ]
    },
    {
      "cell_type": "markdown",
      "metadata": {
        "id": "DyNGmeuegee9",
        "colab_type": "text"
      },
      "source": [
        "20% points of this cluster would be 14 points"
      ]
    },
    {
      "cell_type": "code",
      "metadata": {
        "id": "N5oV9-lcgc1Q",
        "colab_type": "code",
        "colab": {}
      },
      "source": [
        "list=dict[9].copy()"
      ],
      "execution_count": null,
      "outputs": []
    },
    {
      "cell_type": "code",
      "metadata": {
        "id": "aTjSvyXZgl_Z",
        "colab_type": "code",
        "colab": {}
      },
      "source": [
        "temp=np.zeros(650)"
      ],
      "execution_count": null,
      "outputs": []
    },
    {
      "cell_type": "code",
      "metadata": {
        "id": "kxZVbPTqgnTd",
        "colab_type": "code",
        "colab": {}
      },
      "source": [
        "for i in range(67):\n",
        "  random_num = random.choice(list)\n",
        "  temp[random_num]=y_cluster[random_num]\n",
        "  list.remove(random_num)"
      ],
      "execution_count": null,
      "outputs": []
    },
    {
      "cell_type": "code",
      "metadata": {
        "id": "BiDiduEdgrFz",
        "colab_type": "code",
        "colab": {
          "base_uri": "https://localhost:8080/",
          "height": 34
        },
        "outputId": "4916c562-412d-40b2-8227-7ee2b8075443"
      },
      "source": [
        "np.unique(temp, return_counts=True)\n"
      ],
      "execution_count": null,
      "outputs": [
        {
          "output_type": "execute_result",
          "data": {
            "text/plain": [
              "(array([0., 1., 2., 6., 7., 8.]), array([583,  35,   3,   2,   1,  26]))"
            ]
          },
          "metadata": {
            "tags": []
          },
          "execution_count": 208
        }
      ]
    },
    {
      "cell_type": "markdown",
      "metadata": {
        "id": "e8yJWeawg_Dq",
        "colab_type": "text"
      },
      "source": [
        "Belongs to 1"
      ]
    },
    {
      "cell_type": "code",
      "metadata": {
        "id": "ygSjB0cPgsmJ",
        "colab_type": "code",
        "colab": {}
      },
      "source": [
        "for i in dict[9]:\n",
        "  y_label[i]=1"
      ],
      "execution_count": null,
      "outputs": []
    },
    {
      "cell_type": "code",
      "metadata": {
        "id": "tv0Zzb5_mLrq",
        "colab_type": "code",
        "colab": {
          "base_uri": "https://localhost:8080/",
          "height": 51
        },
        "outputId": "4f943a61-71d7-4f8b-f049-2f5e57daa630"
      },
      "source": [
        "np.unique(y_label, return_counts=True)\n"
      ],
      "execution_count": null,
      "outputs": [
        {
          "output_type": "execute_result",
          "data": {
            "text/plain": [
              "(array([0., 1., 2., 3., 4., 5., 6., 7., 8., 9.]),\n",
              " array([ 76,  67,  60, 104,  63,  33,  54,  81,  73,  39]))"
            ]
          },
          "metadata": {
            "tags": []
          },
          "execution_count": 246
        }
      ]
    },
    {
      "cell_type": "markdown",
      "metadata": {
        "id": "fdV5oYOgplVt",
        "colab_type": "text"
      },
      "source": [
        ""
      ]
    },
    {
      "cell_type": "code",
      "metadata": {
        "id": "vfc9yjSqmNkC",
        "colab_type": "code",
        "colab": {
          "base_uri": "https://localhost:8080/",
          "height": 682
        },
        "outputId": "9db4a244-41ca-481c-b6b6-8a74ff189495"
      },
      "source": [
        "y_label"
      ],
      "execution_count": null,
      "outputs": [
        {
          "output_type": "execute_result",
          "data": {
            "text/plain": [
              "array([3., 6., 1., 7., 3., 2., 1., 1., 7., 9., 7., 1., 7., 5., 6., 9., 5.,\n",
              "       4., 8., 8., 7., 0., 1., 0., 5., 9., 3., 4., 8., 2., 7., 8., 7., 1.,\n",
              "       2., 0., 0., 6., 1., 1., 4., 7., 9., 4., 0., 6., 0., 7., 0., 2., 9.,\n",
              "       2., 3., 4., 3., 4., 7., 1., 3., 7., 0., 9., 4., 6., 5., 5., 8., 3.,\n",
              "       5., 7., 0., 5., 5., 0., 8., 1., 5., 7., 4., 4., 7., 2., 0., 0., 7.,\n",
              "       3., 3., 7., 8., 7., 0., 5., 1., 8., 7., 8., 8., 3., 7., 6., 7., 6.,\n",
              "       4., 3., 3., 7., 7., 3., 2., 6., 1., 2., 2., 3., 4., 8., 8., 3., 3.,\n",
              "       1., 3., 2., 4., 0., 7., 6., 3., 6., 9., 3., 7., 5., 1., 5., 7., 4.,\n",
              "       9., 4., 2., 5., 7., 8., 9., 0., 1., 5., 2., 6., 8., 6., 8., 2., 4.,\n",
              "       3., 3., 0., 1., 2., 7., 1., 4., 4., 0., 3., 0., 1., 4., 0., 8., 8.,\n",
              "       8., 9., 2., 7., 2., 6., 2., 4., 2., 1., 0., 5., 4., 5., 3., 0., 1.,\n",
              "       0., 3., 0., 3., 2., 2., 0., 4., 7., 9., 7., 6., 0., 6., 8., 2., 0.,\n",
              "       7., 8., 1., 7., 5., 8., 8., 3., 3., 2., 8., 7., 1., 1., 4., 6., 8.,\n",
              "       2., 7., 7., 8., 1., 3., 7., 3., 1., 7., 6., 3., 3., 7., 7., 0., 8.,\n",
              "       1., 0., 1., 6., 4., 9., 8., 1., 5., 4., 2., 0., 1., 8., 4., 1., 8.,\n",
              "       4., 8., 0., 2., 6., 9., 5., 1., 7., 7., 1., 7., 1., 3., 0., 6., 3.,\n",
              "       0., 6., 2., 3., 1., 3., 0., 7., 6., 0., 0., 3., 3., 7., 3., 2., 1.,\n",
              "       6., 0., 7., 9., 7., 1., 0., 4., 1., 9., 2., 7., 4., 3., 1., 9., 0.,\n",
              "       8., 0., 4., 0., 3., 0., 1., 8., 4., 6., 5., 7., 1., 8., 0., 2., 0.,\n",
              "       2., 0., 3., 9., 3., 3., 6., 4., 3., 0., 8., 7., 9., 0., 0., 7., 3.,\n",
              "       3., 9., 7., 9., 3., 1., 3., 8., 0., 4., 7., 6., 4., 3., 3., 4., 3.,\n",
              "       2., 7., 2., 5., 3., 2., 0., 9., 3., 7., 8., 4., 4., 1., 8., 1., 7.,\n",
              "       8., 8., 4., 1., 2., 9., 5., 2., 3., 1., 9., 8., 7., 2., 0., 3., 2.,\n",
              "       0., 3., 6., 4., 6., 1., 1., 3., 8., 5., 8., 7., 6., 2., 8., 3., 4.,\n",
              "       6., 3., 2., 7., 0., 7., 3., 3., 4., 3., 0., 3., 3., 3., 2., 6., 2.,\n",
              "       4., 9., 5., 0., 3., 6., 1., 3., 3., 1., 3., 4., 4., 7., 0., 7., 9.,\n",
              "       4., 6., 7., 8., 3., 3., 0., 8., 6., 3., 2., 3., 2., 5., 4., 1., 6.,\n",
              "       6., 3., 2., 3., 3., 9., 1., 4., 6., 5., 3., 8., 3., 4., 8., 4., 1.,\n",
              "       0., 8., 9., 3., 2., 9., 2., 6., 0., 1., 5., 5., 8., 5., 7., 2., 3.,\n",
              "       9., 4., 4., 2., 2., 8., 7., 3., 9., 0., 7., 0., 3., 6., 1., 0., 2.,\n",
              "       2., 3., 2., 1., 6., 9., 3., 8., 3., 0., 4., 6., 0., 0., 5., 7., 3.,\n",
              "       9., 8., 0., 3., 7., 6., 4., 2., 6., 8., 2., 8., 7., 2., 1., 6., 8.,\n",
              "       1., 0., 7., 2., 6., 7., 7., 8., 2., 3., 7., 6., 7., 3., 8., 0., 3.,\n",
              "       4., 6., 5., 3., 0., 7., 3., 9., 9., 7., 0., 3., 3., 8., 4., 5., 1.,\n",
              "       4., 8., 7., 3., 3., 6., 2., 1., 6., 2., 8., 2., 8., 1., 8., 4., 3.,\n",
              "       1., 8., 0., 3., 4., 4., 8., 0., 4., 1., 4., 3., 3., 1., 7., 8., 3.,\n",
              "       1., 9., 8., 7., 3., 4., 3., 8., 6., 6., 1., 9., 6., 8., 9., 0., 8.,\n",
              "       1., 5., 7., 0., 0., 6., 6., 7., 0., 9., 8., 3., 0., 1., 7., 9., 4.,\n",
              "       8., 8., 4., 8.])"
            ]
          },
          "metadata": {
            "tags": []
          },
          "execution_count": 256
        }
      ]
    },
    {
      "cell_type": "code",
      "metadata": {
        "id": "PKfJNen0poAG",
        "colab_type": "code",
        "colab": {
          "base_uri": "https://localhost:8080/",
          "height": 529
        },
        "outputId": "2a78f397-3e0d-4983-8d26-f93f742b3e93"
      },
      "source": [
        "y_cluster"
      ],
      "execution_count": null,
      "outputs": [
        {
          "output_type": "execute_result",
          "data": {
            "text/plain": [
              "array([9, 6, 8, 7, 9, 2, 1, 8, 7, 1, 7, 8, 7, 7, 6, 1, 5, 4, 8, 5, 7, 0,\n",
              "       6, 0, 5, 7, 9, 4, 8, 2, 3, 5, 7, 8, 2, 0, 0, 6, 8, 8, 4, 7, 1, 4,\n",
              "       0, 6, 0, 7, 0, 2, 9, 2, 3, 4, 9, 4, 4, 1, 3, 7, 0, 1, 4, 6, 5, 7,\n",
              "       8, 9, 5, 7, 0, 7, 8, 0, 5, 8, 5, 7, 4, 4, 8, 1, 0, 0, 7, 3, 2, 7,\n",
              "       8, 7, 0, 5, 2, 5, 7, 5, 8, 3, 7, 6, 7, 6, 4, 9, 9, 7, 7, 3, 2, 6,\n",
              "       1, 2, 1, 9, 4, 8, 5, 9, 9, 1, 3, 2, 4, 0, 9, 6, 3, 6, 7, 9, 7, 5,\n",
              "       1, 5, 7, 4, 1, 4, 2, 5, 7, 5, 1, 0, 1, 5, 2, 6, 8, 6, 5, 2, 4, 9,\n",
              "       9, 0, 1, 1, 7, 1, 4, 4, 0, 3, 0, 1, 4, 0, 8, 8, 5, 1, 2, 7, 1, 6,\n",
              "       2, 4, 2, 1, 0, 5, 4, 5, 3, 0, 1, 0, 3, 0, 3, 2, 2, 0, 4, 7, 7, 7,\n",
              "       6, 0, 6, 5, 1, 0, 7, 5, 1, 7, 5, 8, 8, 9, 2, 2, 5, 7, 8, 2, 4, 6,\n",
              "       9, 1, 3, 7, 8, 1, 3, 7, 9, 8, 7, 6, 3, 2, 7, 7, 0, 8, 1, 0, 1, 6,\n",
              "       4, 1, 8, 1, 5, 4, 2, 0, 8, 5, 4, 1, 5, 4, 5, 0, 2, 6, 9, 5, 1, 7,\n",
              "       7, 8, 7, 6, 3, 0, 6, 3, 0, 6, 2, 9, 1, 3, 0, 7, 6, 0, 0, 3, 3, 2,\n",
              "       9, 2, 1, 6, 0, 7, 1, 7, 8, 2, 4, 1, 1, 1, 3, 4, 9, 8, 1, 0, 5, 0,\n",
              "       4, 0, 5, 0, 8, 5, 4, 6, 5, 7, 7, 8, 0, 2, 0, 1, 0, 3, 9, 9, 9, 6,\n",
              "       4, 3, 0, 8, 7, 9, 0, 0, 7, 3, 3, 7, 7, 1, 9, 1, 9, 5, 0, 4, 7, 6,\n",
              "       4, 9, 3, 4, 9, 2, 7, 2, 5, 9, 2, 0, 9, 9, 7, 5, 4, 4, 8, 5, 8, 7,\n",
              "       8, 8, 4, 8, 2, 9, 5, 2, 3, 8, 1, 8, 7, 2, 0, 9, 8, 0, 9, 6, 4, 6,\n",
              "       1, 8, 9, 8, 5, 8, 7, 6, 1, 5, 3, 4, 6, 3, 2, 7, 0, 7, 3, 9, 4, 9,\n",
              "       0, 3, 9, 9, 2, 6, 8, 4, 9, 5, 0, 9, 6, 8, 3, 3, 1, 9, 4, 4, 7, 0,\n",
              "       7, 1, 4, 6, 7, 8, 3, 9, 0, 8, 6, 3, 2, 9, 2, 8, 4, 8, 6, 6, 9, 2,\n",
              "       9, 9, 9, 8, 4, 6, 7, 3, 5, 3, 4, 5, 4, 1, 0, 8, 1, 9, 2, 1, 2, 6,\n",
              "       0, 1, 5, 5, 5, 5, 7, 2, 2, 1, 4, 4, 8, 2, 5, 7, 9, 1, 0, 7, 0, 3,\n",
              "       6, 1, 0, 2, 2, 9, 2, 1, 6, 1, 3, 5, 3, 0, 4, 6, 0, 0, 7, 7, 9, 1,\n",
              "       5, 0, 3, 7, 6, 4, 2, 6, 8, 1, 5, 9, 1, 8, 6, 8, 1, 0, 7, 2, 6, 7,\n",
              "       7, 8, 2, 3, 7, 6, 7, 3, 8, 0, 3, 4, 6, 5, 3, 0, 7, 3, 1, 1, 7, 0,\n",
              "       9, 3, 5, 4, 5, 8, 4, 5, 7, 9, 3, 6, 1, 1, 6, 8, 5, 2, 5, 2, 5, 4,\n",
              "       3, 1, 5, 0, 2, 4, 4, 8, 0, 4, 1, 4, 3, 9, 1, 7, 8, 3, 8, 9, 8, 7,\n",
              "       9, 4, 3, 8, 6, 6, 1, 1, 6, 8, 9, 0, 5, 8, 5, 7, 0, 0, 6, 6, 7, 0,\n",
              "       1, 5, 9, 0, 1, 7, 1, 4, 5, 8, 4, 8])"
            ]
          },
          "metadata": {
            "tags": []
          },
          "execution_count": 257
        }
      ]
    },
    {
      "cell_type": "code",
      "metadata": {
        "id": "TnzQZp8ImR9a",
        "colab_type": "code",
        "colab": {}
      },
      "source": [
        "count=0\n",
        "for i in range(650):\n",
        "  if(y_label[i]==y_cluster[i]):\n",
        "    count+=1\n"
      ],
      "execution_count": null,
      "outputs": []
    },
    {
      "cell_type": "code",
      "metadata": {
        "id": "iY5RRNprnFXk",
        "colab_type": "code",
        "colab": {
          "base_uri": "https://localhost:8080/",
          "height": 34
        },
        "outputId": "1ea53a1d-cae7-49ff-b018-da55bc9282f4"
      },
      "source": [
        "count"
      ],
      "execution_count": null,
      "outputs": [
        {
          "output_type": "execute_result",
          "data": {
            "text/plain": [
              "464"
            ]
          },
          "metadata": {
            "tags": []
          },
          "execution_count": 255
        }
      ]
    },
    {
      "cell_type": "markdown",
      "metadata": {
        "id": "VcukyM_2nQIt",
        "colab_type": "text"
      },
      "source": [
        "Accuracy is 71.38%"
      ]
    },
    {
      "cell_type": "code",
      "metadata": {
        "id": "Vjnh-BnunN69",
        "colab_type": "code",
        "colab": {}
      },
      "source": [
        ""
      ],
      "execution_count": null,
      "outputs": []
    }
  ]
}