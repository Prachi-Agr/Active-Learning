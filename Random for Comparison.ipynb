{
  "nbformat": 4,
  "nbformat_minor": 0,
  "metadata": {
    "colab": {
      "name": "Final Random for comparison",
      "provenance": []
    },
    "kernelspec": {
      "name": "python3",
      "display_name": "Python 3"
    }
  },
  "cells": [
    {
      "cell_type": "code",
      "metadata": {
        "id": "aYXxcgHZ9CwO",
        "colab_type": "code",
        "colab": {}
      },
      "source": [
        "import os\n",
        "import numpy as np\n",
        "import matplotlib.pyplot as plt\n"
      ],
      "execution_count": null,
      "outputs": []
    },
    {
      "cell_type": "code",
      "metadata": {
        "id": "0NXqNwilA1OH",
        "colab_type": "code",
        "colab": {
          "base_uri": "https://localhost:8080/",
          "height": 102
        },
        "outputId": "f367279d-33f8-4327-c245-6a0cf26eb35d"
      },
      "source": [
        "pip install modAL"
      ],
      "execution_count": null,
      "outputs": [
        {
          "output_type": "stream",
          "text": [
            "Requirement already satisfied: modAL in /usr/local/lib/python3.6/dist-packages (0.3.5)\n",
            "Requirement already satisfied: scipy>=0.18 in /usr/local/lib/python3.6/dist-packages (from modAL) (1.4.1)\n",
            "Requirement already satisfied: scikit-learn>=0.18 in /usr/local/lib/python3.6/dist-packages (from modAL) (0.22.2.post1)\n",
            "Requirement already satisfied: numpy>=1.13 in /usr/local/lib/python3.6/dist-packages (from modAL) (1.18.5)\n",
            "Requirement already satisfied: joblib>=0.11 in /usr/local/lib/python3.6/dist-packages (from scikit-learn>=0.18->modAL) (0.15.1)\n"
          ],
          "name": "stdout"
        }
      ]
    },
    {
      "cell_type": "code",
      "metadata": {
        "id": "dcol8pEq9Dks",
        "colab_type": "code",
        "colab": {}
      },
      "source": [
        "from sklearn.datasets import load_digits\n",
        "\n",
        "digits = load_digits()\n",
        "x_raw=digits['data']\n",
        "y_raw=digits['target']\n",
        "n_labeled_examples = x_raw.shape[0]\n"
      ],
      "execution_count": null,
      "outputs": []
    },
    {
      "cell_type": "markdown",
      "metadata": {
        "id": "V1nKsFnBAdDr",
        "colab_type": "text"
      },
      "source": [
        "For Uncertainty Sampling"
      ]
    },
    {
      "cell_type": "code",
      "metadata": {
        "id": "4dSe_i_AAiXT",
        "colab_type": "code",
        "colab": {}
      },
      "source": [
        "from sklearn.neighbors import KNeighborsClassifier\n",
        "from modAL.models import ActiveLearner\n",
        "knn = KNeighborsClassifier(n_neighbors=3)\n",
        "\n"
      ],
      "execution_count": null,
      "outputs": []
    },
    {
      "cell_type": "code",
      "metadata": {
        "id": "bY0QogEL9O8u",
        "colab_type": "code",
        "colab": {}
      },
      "source": [
        "training_indices = np.random.randint(low=0, high=n_labeled_examples + 1, size=895)\n",
        "\n",
        "X_train = x_raw[training_indices]\n",
        "y_train = y_raw[training_indices]\n",
        "\n"
      ],
      "execution_count": null,
      "outputs": []
    },
    {
      "cell_type": "code",
      "metadata": {
        "id": "_lUO7CsjAvrO",
        "colab_type": "code",
        "colab": {}
      },
      "source": [
        "learner = ActiveLearner(\n",
        "    estimator=knn,\n",
        "    X_training=X_train, y_training=y_train\n",
        ")\n"
      ],
      "execution_count": null,
      "outputs": []
    },
    {
      "cell_type": "code",
      "metadata": {
        "id": "t9jnpkVqAtbe",
        "colab_type": "code",
        "colab": {}
      },
      "source": [
        "unqueried_score = learner.score(x_raw, y_raw)"
      ],
      "execution_count": null,
      "outputs": []
    },
    {
      "cell_type": "code",
      "metadata": {
        "id": "amar6FiFBErI",
        "colab_type": "code",
        "colab": {
          "base_uri": "https://localhost:8080/",
          "height": 34
        },
        "outputId": "3dc57d6d-8cf1-4466-8740-004412075180"
      },
      "source": [
        "unqueried_score"
      ],
      "execution_count": null,
      "outputs": [
        {
          "output_type": "execute_result",
          "data": {
            "text/plain": [
              "0.9794101279910963"
            ]
          },
          "metadata": {
            "tags": []
          },
          "execution_count": 19
        }
      ]
    },
    {
      "cell_type": "code",
      "metadata": {
        "id": "_6BN1w47BHBH",
        "colab_type": "code",
        "colab": {}
      },
      "source": [
        ""
      ],
      "execution_count": null,
      "outputs": []
    },
    {
      "cell_type": "markdown",
      "metadata": {
        "id": "pAS5uEmhBNHC",
        "colab_type": "text"
      },
      "source": [
        "For QBC"
      ]
    },
    {
      "cell_type": "code",
      "metadata": {
        "id": "qq3-XfKaCHKJ",
        "colab_type": "code",
        "colab": {}
      },
      "source": [
        "training_indices = np.random.randint(low=0, high=n_labeled_examples + 1, size=895)\n",
        "\n",
        "X_train = x_raw[training_indices]\n",
        "y_train = y_raw[training_indices]\n"
      ],
      "execution_count": null,
      "outputs": []
    },
    {
      "cell_type": "code",
      "metadata": {
        "id": "oRDZuoWqBcro",
        "colab_type": "code",
        "colab": {}
      },
      "source": [
        "from sklearn.ensemble import RandomForestClassifier,AdaBoostClassifier\n",
        "from sklearn.tree import DecisionTreeClassifier\n",
        "from sklearn.neighbors import KNeighborsClassifier\n",
        "from sklearn.discriminant_analysis import QuadraticDiscriminantAnalysis\n",
        "from sklearn.gaussian_process import GaussianProcessClassifier\n",
        "\n",
        "from modAL.models import ActiveLearner, Committee\n",
        "\n",
        "# initializing Committee members\n",
        "n_members = 5\n",
        "learner_list = list()\n",
        "\n",
        "learner1 = ActiveLearner(\n",
        "        estimator=RandomForestClassifier(max_depth=5), X_training=X_train, y_training=y_train\n",
        "    )\n",
        "learner2 = ActiveLearner(estimator=AdaBoostClassifier(), X_training=X_train, y_training=y_train)\n",
        "learner3 = ActiveLearner(\n",
        "        estimator=DecisionTreeClassifier(max_depth=5), X_training=X_train, y_training=y_train\n",
        "    )\n",
        "learner4= ActiveLearner(\n",
        "        estimator=KNeighborsClassifier(3), X_training=X_train, y_training=y_train\n",
        "    )\n",
        "learner5=ActiveLearner(\n",
        "        estimator=GaussianProcessClassifier(), X_training=X_train, y_training=y_train\n",
        "    )\n",
        "#learner5=ActiveLearner(\n",
        "#        estimator=LinearDiscriminantAnalysis(), X_training=X_train, y_training=y_train\n",
        "#   )\n",
        "learner_list.append(learner1)\n",
        "learner_list.append(learner2)\n",
        "learner_list.append(learner3)\n",
        "learner_list.append(learner4)\n",
        "learner_list.append(learner5)\n",
        "\n",
        "# assembling the committee\n",
        "committee = Committee(learner_list=learner_list)"
      ],
      "execution_count": null,
      "outputs": []
    },
    {
      "cell_type": "code",
      "metadata": {
        "id": "KHBp7XqVBn8l",
        "colab_type": "code",
        "colab": {
          "base_uri": "https://localhost:8080/",
          "height": 34
        },
        "outputId": "890acc97-1732-4cca-8701-41c19ad9ebe7"
      },
      "source": [
        "unqueried_score=committee.score(x_raw,y_raw)\n",
        "unqueried_score"
      ],
      "execution_count": null,
      "outputs": [
        {
          "output_type": "execute_result",
          "data": {
            "text/plain": [
              "0.9744017807456873"
            ]
          },
          "metadata": {
            "tags": []
          },
          "execution_count": 22
        }
      ]
    },
    {
      "cell_type": "code",
      "metadata": {
        "id": "X6t0GzEUBv2z",
        "colab_type": "code",
        "colab": {}
      },
      "source": [
        ""
      ],
      "execution_count": null,
      "outputs": []
    }
  ]
}